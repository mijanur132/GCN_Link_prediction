{
 "cells": [
  {
   "cell_type": "markdown",
   "metadata": {},
   "source": [
    "## GCN - Link Prediction using joint representation"
   ]
  },
  {
   "cell_type": "code",
   "execution_count": 23,
   "metadata": {},
   "outputs": [],
   "source": [
    "import torch\n",
    "import torch.nn as nn\n",
    "import numpy as np\n",
    "from torch.nn import init\n",
    "from random import shuffle, randint\n",
    "import torch.nn.functional as F\n",
    "from torch_geometric.datasets import Reddit, PPI, Planetoid\n",
    "from itertools import combinations, combinations_with_replacement\n",
    "from sklearn.metrics import f1_score, accuracy_score\n",
    "from sklearn.decomposition import TruncatedSVD\n",
    "from torch_geometric.data import NeighborSampler\n",
    "import matplotlib.pyplot as plt\n"
   ]
  },
  {
   "cell_type": "markdown",
   "metadata": {},
   "source": [
    "## Define and load the dataset"
   ]
  },
  {
   "cell_type": "code",
   "execution_count": 24,
   "metadata": {},
   "outputs": [],
   "source": [
    "DATASET = 'cora'\n",
    "RUN_COUNT = 1\n",
    "PATH_TO_DATASETS_DIRECTORY = './'"
   ]
  },
  {
   "cell_type": "code",
   "execution_count": 25,
   "metadata": {},
   "outputs": [],
   "source": [
    "datasets = {\n",
    "    'reddit': Reddit(root=PATH_TO_DATASETS_DIRECTORY + '/datasets/Reddit'),\n",
    "    'cora' : Planetoid(root=PATH_TO_DATASETS_DIRECTORY + '/datasets/Cora/', name='Cora'),\n",
    "    'citeseer' : Planetoid(root=PATH_TO_DATASETS_DIRECTORY + '/datasets/CiteSeer/', name='CiteSeer'),\n",
    "    'pubmed' : Planetoid(root=PATH_TO_DATASETS_DIRECTORY + '/datasets/PubMed/', name='PubMed'),\n",
    "}\n",
    "dataset = datasets[DATASET]\n",
    "data = dataset[0]\n",
    "device = torch.device(\"cuda\" if torch.cuda.is_available() else \"cpu\")"
   ]
  },
  {
   "cell_type": "code",
   "execution_count": 26,
   "metadata": {},
   "outputs": [
    {
     "name": "stdout",
     "output_type": "stream",
     "text": [
      "Printing Dataset Characteristics\n",
      "Name:  cora\n",
      "Total Number of Nodes:  2708\n",
      "Total Number of Training Nodes:  140\n",
      "Total Number of Val Nodes:  500\n",
      "Total Number of Test Nodes:  1000\n",
      "Num Node Features:  1433\n",
      "Num Node Classes:  7\n",
      "Number of Edges:  10556\n"
     ]
    }
   ],
   "source": [
    "print(\"Printing Dataset Characteristics\")\n",
    "print(\"Name: \", DATASET)\n",
    "print(\"Total Number of Nodes: \", data.num_nodes)\n",
    "print(\"Total Number of Training Nodes: \", data.train_mask.sum().item())\n",
    "print(\"Total Number of Val Nodes: \", data.val_mask.sum().item())\n",
    "print(\"Total Number of Test Nodes: \", data.test_mask.sum().item())\n",
    "print(\"Num Node Features: \", data.num_features)\n",
    "print(\"Num Node Classes: \", dataset.num_classes)\n",
    "print(\"Number of Edges: \", data.edge_index.shape[1])"
   ]
  },
  {
   "cell_type": "markdown",
   "metadata": {},
   "source": [
    "## Sample edges to create train, val and test links"
   ]
  },
  {
   "cell_type": "code",
   "execution_count": 27,
   "metadata": {},
   "outputs": [],
   "source": [
    "import sys\n",
    "from torch_geometric.data import Data\n",
    "\n",
    "\n",
    "def sample_edges(data,train_percent, val_percent, test_percent):\n",
    "    edges = data.edge_index.t()\n",
    "    adj_mat = torch.zeros((data.num_nodes,data.num_nodes))\n",
    "    adj_mat[edges[:,0], edges[:,1]] = 1\n",
    "    \n",
    "    true_edges=adj_mat.triu().nonzero()\n",
    "    num_edges=true_edges.shape[0]\n",
    "    \n",
    "    inverse_adj_mat = 1 - adj_mat\n",
    "    non_edges = inverse_adj_mat.triu().nonzero()\n",
    "    \n",
    "    num_non_edges  = non_edges.shape[0]\n",
    "    \n",
    "    total_samples= int(num_edges * np.minimum(train_percent+val_percent+test_percent,1.0))\n",
    "    \n",
    "    edges_sampled = edges[np.random.randint(num_edges, size=total_samples)]\n",
    "    non_edges_sampled = non_edges[np.random.randint(num_non_edges, size=total_samples)]\n",
    "    \n",
    "    #Remove sampled edges from the graph\n",
    "    \n",
    "    adj_mat[edges_sampled[:,0],edges_sampled[:,1]]=0\n",
    "    adj_mat[edges_sampled[:,1],edges_sampled[:,0]]=0\n",
    "    adj_mat[non_edges_sampled[:,0],non_edges_sampled[:,1]]=0\n",
    "    adj_mat[non_edges_sampled[:,1],non_edges_sampled[:,0]]=0\n",
    "    \n",
    "    n_test_percent=test_percent/(train_percent+val_percent+test_percent)\n",
    "    n_val_percent=val_percent/(train_percent+val_percent+test_percent)\n",
    "    n_train_percent=train_percent/(train_percent+val_percent+test_percent)\n",
    "    \n",
    "    test_size=int(n_test_percent*total_samples)\n",
    "    val_size=int(n_val_percent*total_samples)    \n",
    "    \n",
    "    x_test_pos=edges_sampled[0:test_size]\n",
    "    x_val_pos=edges_sampled[test_size:test_size+val_size]\n",
    "    x_train_pos=edges_sampled[test_size+val_size:]\n",
    "    \n",
    "    x_test_neg=non_edges_sampled[0:test_size]\n",
    "    x_val_neg=non_edges_sampled[test_size:test_size+val_size]\n",
    "    x_train_neg=non_edges_sampled[test_size+val_size:]\n",
    "    \n",
    "    \n",
    "    total=len(x_test_pos)+len(x_val_pos)+len(x_train_pos)\n",
    "    print(\"Positive: \",total_samples, len(x_train_pos), len(x_val_pos), len(x_test_pos), total )\n",
    "    \n",
    "    non_total=len(x_test_neg)+len(x_val_neg)+len(x_train_neg)\n",
    "    print(\"Negative: \",total_samples, len(x_train_neg), len(x_val_neg), len(x_test_neg), non_total )\n",
    "    \n",
    "    edges=adj_mat.nonzero()\n",
    "    edge_weight=torch.ones((len(edges)))\n",
    "    \n",
    "    y_train_pos=torch.ones((len(x_train_pos)))\n",
    "    y_val_pos=torch.ones((len(x_val_pos)))\n",
    "    y_test_pos=torch.ones((len(x_test_pos)))\n",
    "    \n",
    "    y_train_neg=torch.zeros((len(x_train_neg)))\n",
    "    y_val_neg=torch.zeros((len(x_val_neg)))\n",
    "    y_test_neg=torch.zeros((len(x_test_neg)))\n",
    "    \n",
    "        \n",
    "    G_data=Data(edge_index=edges.t(), edge_weight=edge_weight, x=data.x)\n",
    "    \n",
    "    return G_data, x_train_pos, y_train_pos,  x_train_neg, y_train_neg, x_val_pos, y_val_pos,  x_val_neg, y_val_neg, x_test_pos, y_test_pos,  x_test_neg, y_test_neg\n",
    "    \n",
    "    \n",
    "    "
   ]
  },
  {
   "cell_type": "markdown",
   "metadata": {},
   "source": [
    "## Create train test validation set"
   ]
  },
  {
   "cell_type": "code",
   "execution_count": 28,
   "metadata": {},
   "outputs": [
    {
     "name": "stdout",
     "output_type": "stream",
     "text": [
      "Positive:  1583 529 527 527 1583\n",
      "Negative:  1583 529 527 527 1583\n",
      "Data(edge_index=[2, 10556], test_mask=[2708], train_mask=[2708], val_mask=[2708], x=[2708, 1433], y=[2708])\n",
      "Data(edge_index=[2, 8026], edge_weight=[8026], x=[2708, 1433])\n"
     ]
    }
   ],
   "source": [
    "G_data, x_train_pos, y_train_pos,  x_train_neg, y_train_neg, x_val_pos, y_val_pos,  x_val_neg, y_val_neg, x_test_pos, y_test_pos,  x_test_neg, y_test_neg=sample_edges(data,0.10,0.10,0.10)\n",
    "\n",
    "print(data)\n",
    "print(G_data)\n",
    "\n",
    "G_data=G_data.to(device)\n",
    "\n",
    "x_train = torch.cat((x_train_pos,x_train_neg),dim=0).type(torch.long).to(device)\n",
    "y_train = torch.cat((y_train_pos,y_train_neg),dim=0).type(torch.long).to(device)\n",
    "\n",
    "x_val = torch.cat((x_val_pos,x_val_neg),dim=0).type(torch.long).to(device)\n",
    "y_val = torch.cat((y_val_pos,y_val_neg),dim=0).type(torch.long).to(device)\n",
    "\n",
    "x_test = torch.cat((x_test_pos,x_test_neg),dim=0).type(torch.long).to(device)\n",
    "y_test = torch.cat((y_test_pos,y_test_neg),dim=0).type(torch.long).to(device)\n"
   ]
  },
  {
   "cell_type": "code",
   "execution_count": 29,
   "metadata": {},
   "outputs": [
    {
     "name": "stdout",
     "output_type": "stream",
     "text": [
      "Data(edge_index=[2, 8026], edge_weight=[8026], x=[2708, 1433])\n",
      "tensor([1., 2.])\n",
      "tensor([4., 5.])\n"
     ]
    }
   ],
   "source": [
    "# from torch_geometric.data import NeighborSampler\n",
    "\n",
    "print(G_data)\n",
    "        \n",
    "# k=5\n",
    "# hop=2\n",
    "\n",
    "\n",
    "# neighbor_sampler=NeighborSampler(G_data,size=k,num_hops=hop,bipartite=False,batch_size=2)\n",
    "\n",
    "# for j in range(1):\n",
    "    \n",
    "#     print(\"=\"*100)\n",
    "    \n",
    "#     n_id=torch.Tensor([1,2,3,4,5,6]).type(torch.long)\n",
    "\n",
    "#     for i in neighbor_sampler(n_id):\n",
    "#         print(i)\n",
    "#         print(i.edge_index)\n",
    "#         print(i.n_id)\n",
    "#         print(i.e_id)\n",
    "#         print(i.b_id)\n",
    "#         print(i.sub_b_id)\n",
    "        \n",
    "#     print(\"=\"*100)\n",
    "\n",
    "# nodes=torch.Tensor([1,2,3])\n",
    "\n",
    "# res = dict(zip(nodes, torch.arange(0,len(nodes)).type(torch.long)))\n",
    "\n",
    "# print(res)\n",
    "\n",
    "# (nodes==2).nonzero()[0]\n",
    "\n",
    "#nodes=torch.Tensor([[1,2,3],[4,5,6]])\n",
    "#counts=torch.Tensor([1,2])\n",
    "\n",
    "#print(nodes / counts[:, None])\n",
    "\n",
    "edges=torch.Tensor([[1,2],[4,5]])\n",
    "\n",
    "\n",
    "for edge in edges:\n",
    "    print(edge)\n"
   ]
  },
  {
   "cell_type": "markdown",
   "metadata": {},
   "source": [
    "## Define the Supervised Learning Network"
   ]
  },
  {
   "cell_type": "code",
   "execution_count": 45,
   "metadata": {},
   "outputs": [],
   "source": [
    "num_neurons = 50\n",
    "input_rep = data.num_features\n",
    "\n",
    "from torch_geometric.nn import GCNConv,GATConv,SAGEConv, GINConv\n",
    "GNNlayer=GCNConv\n",
    "\n",
    "class JointGNN(nn.Module):\n",
    "    def __init__(self):\n",
    "        super(JointGNN, self).__init__()\n",
    "        \n",
    "        self.GNN_layer1 = GNNlayer(input_rep,num_neurons)\n",
    "        self.GNN_layer2 = GNNlayer(num_neurons,num_neurons)\n",
    "        \n",
    "        self.linear1 = nn.Linear(num_neurons,num_neurons)\n",
    "        self.linear2 = nn.Linear(num_neurons,2)\n",
    "        \n",
    "        self.relu = nn.ReLU()\n",
    "        self.sigmoid = nn.Sigmoid()\n",
    "        \n",
    "        \n",
    "    def forward(self, G_data, neighbor_graph, nodes, edges):\n",
    "        \n",
    "        node_tensor_map = dict(zip(nodes.numpy(),np.arange(len(nodes))))        \n",
    "        #print(node_tensor_map)\n",
    "        \n",
    "        node_tensor = torch.zeros((len(nodes), num_neurons)).to(device)\n",
    "        node_count = torch.zeros((len(nodes)),requires_grad=False)\n",
    "\n",
    "        \n",
    "        for graph in neighbor_graph:\n",
    "            \n",
    "            sub_nodes=graph.n_id\n",
    "            #print(sub_nodes)\n",
    "            \n",
    "            x=G_data.x[sub_nodes]            \n",
    "            x=self.GNN_layer1(x,graph.edge_index)\n",
    "            x=self.relu(x)\n",
    "            \n",
    "            x=self.GNN_layer2(x,graph.edge_index)\n",
    "            x=self.relu(x)\n",
    "            \n",
    "            #print(graph.b_id)\n",
    "            \n",
    "            \n",
    "            for n_id in graph.b_id:                            \n",
    "                sub_index=(graph.n_id==n_id).nonzero()[0]\n",
    "                sub_x=x[sub_index,:]\n",
    "                    \n",
    "#                 print(sub_x)\n",
    "#                 print(sub_x.shape)\n",
    "                \n",
    "                node_index=node_tensor_map[n_id.item()]                \n",
    "                \n",
    "                node_count[node_index]+=1\n",
    "                node_tensor[node_index,:]+=sub_x.view(-1)\n",
    "                    \n",
    "        \n",
    "#         print(node_count)\n",
    "#         print(node_tensor)\n",
    "        \n",
    "        node_tensor=node_tensor / node_count[:, None]\n",
    "        \n",
    "        z_tensor = torch.zeros((len(edges), num_neurons)).to(device)\n",
    "        \n",
    "        link_no=0\n",
    "        for edge in edges:\n",
    "            u=node_tensor_map[edge[0].item()]\n",
    "            v=node_tensor_map[edge[1].item()]\n",
    "            \n",
    "#             print(node_tensor[u,:])\n",
    "#             print(node_tensor[v,:])\n",
    "            \n",
    "            z_tensor[link_no,:]=(node_tensor[u,:]*node_tensor[v,:]).view(-1)\n",
    "            link_no+=1\n",
    "        \n",
    "        #print(z_tensor)\n",
    "        #print(z_tensor.shape)\n",
    "        \n",
    "        #One Hidden Layer for predictor\n",
    "        z_tensor = self.linear1(z_tensor)\n",
    "        z_tensor = self.relu(z_tensor)\n",
    "        z_tensor = self.linear2(z_tensor)\n",
    "        \n",
    "        return z_tensor\n",
    "\n",
    "    def compute_loss(self, G_data, neighbor_graph, nodes, edges, target):\n",
    "        \n",
    "        pred = self.forward(G_data, neighbor_graph, nodes, edges)\n",
    "        \n",
    "        return F.cross_entropy(pred, target)\n",
    "    \n",
    "    def predict(self, G_data, neighbor_graph, nodes, edges, target):\n",
    "        \n",
    "        pred = self.forward(G_data, neighbor_graph, nodes, edges)        \n",
    "        loss = F.cross_entropy(pred, target)\n",
    "        \n",
    "        return loss, pred\n",
    "        \n",
    "        "
   ]
  },
  {
   "cell_type": "markdown",
   "metadata": {},
   "source": [
    "## Batch Loader"
   ]
  },
  {
   "cell_type": "code",
   "execution_count": 46,
   "metadata": {},
   "outputs": [],
   "source": [
    "import logging\n",
    "\n",
    "class MiniBatcher(object):\n",
    "    def __init__(self, batch_size, n_examples, shuffle=True):\n",
    "        assert batch_size <= n_examples, \"Error: batch_size is larger than n_examples\"\n",
    "        self.batch_size = batch_size\n",
    "        self.n_examples = n_examples\n",
    "        self.shuffle = shuffle\n",
    "        logging.info(\"batch_size={}, n_examples={}\".format(batch_size, n_examples))\n",
    "\n",
    "        self.idxs = np.arange(self.n_examples)\n",
    "        if self.shuffle:\n",
    "            np.random.shuffle(self.idxs)\n",
    "        self.current_start = 0\n",
    "\n",
    "    def get_one_batch(self):\n",
    "        self.idxs = np.arange(self.n_examples)\n",
    "        if self.shuffle:\n",
    "            np.random.shuffle(self.idxs)\n",
    "        self.current_start = 0\n",
    "        while self.current_start < self.n_examples:\n",
    "            batch_idxs = self.idxs[self.current_start:self.current_start+self.batch_size]\n",
    "            self.current_start += self.batch_size\n",
    "            yield torch.LongTensor(batch_idxs)"
   ]
  },
  {
   "cell_type": "code",
   "execution_count": 47,
   "metadata": {},
   "outputs": [],
   "source": [
    "def predict_model(model,G_data, x_data, y_data, minibatch_size, neighbor_sampler):\n",
    "    \n",
    "    batcher = MiniBatcher(minibatch_size, len(x_data)) if minibatch_size > 0 else MiniBatcher(len(x_data), len(x_data))\n",
    "    \n",
    "    preds=np.array([])\n",
    "    targets=np.array([])\n",
    "    total_loss=0\n",
    "    \n",
    "    with torch.no_grad():\n",
    "        for x_idxs in batcher.get_one_batch():\n",
    "            x_idxs = x_idxs.to(device)\n",
    "\n",
    "            x_edges=x_data[x_idxs]\n",
    "            target=y_data[x_idxs]\n",
    "\n",
    "            nodes=torch.flatten(x_edges)\n",
    "            neighbor_graph=neighbor_sampler(nodes)\n",
    "\n",
    "            loss, pred=model.predict(G_data, neighbor_graph, nodes, x_edges, target)                          \n",
    "            total_loss+=loss.item()\n",
    "            \n",
    "            pred = F.log_softmax(pred, dim=1)\n",
    "            pred = pred.detach().to(\"cpu\").numpy()\n",
    "            pred = np.argmax(pred, axis=1)\n",
    "                          \n",
    "            preds = np.append(preds,pred)\n",
    "            targets = np.append(targets,target.detach().to(\"cpu\").numpy())\n",
    "    \n",
    "    micro=f1_score(targets, preds, average='micro')\n",
    "    weighted=f1_score(targets, preds, average='weighted')\n",
    "    acc=accuracy_score(targets, preds)\n",
    "        \n",
    "#     print(\"Micro F1 Score: \", micro )\n",
    "#     print(\"Weighted F1 Score: \", weighted)\n",
    "#     print(\"Accuracy Score: \", acc)\n",
    "    \n",
    "    \n",
    "    return total_loss, acc"
   ]
  },
  {
   "cell_type": "code",
   "execution_count": 48,
   "metadata": {},
   "outputs": [],
   "source": [
    "def save_plot(train_data, valid_data, name='Loss'):\n",
    "    \"\"\"Plot\n",
    "        Plot one figure: accurace/loss vs. epoch and accuracy vs. epoch\n",
    "    \"\"\"\n",
    "    n = len(train_data)\n",
    "    xs = np.arange(n)\n",
    "\n",
    "    # plot train and test accuracies\n",
    "    plt.clf()\n",
    "    fig, ax = plt.subplots()\n",
    "    ax.plot(xs, train_data, '--', linewidth=2, label='train')\n",
    "    ax.plot(xs, valid_data, '-', linewidth=2, label='valid')\n",
    "    ax.set_xlabel(\"Epoch\")\n",
    "    ax.set_ylabel(name)\n",
    "    ax.legend(loc='lower right')\n",
    "    plt.show()\n",
    "    plt.savefig('train_valid_'+name+'.png')\n",
    "    "
   ]
  },
  {
   "cell_type": "code",
   "execution_count": 49,
   "metadata": {},
   "outputs": [
    {
     "name": "stdout",
     "output_type": "stream",
     "text": [
      "JointGNN(\n",
      "  (GNN_layer1): GCNConv(1433, 50)\n",
      "  (GNN_layer2): GCNConv(50, 50)\n",
      "  (linear1): Linear(in_features=50, out_features=50, bias=True)\n",
      "  (linear2): Linear(in_features=50, out_features=2, bias=True)\n",
      "  (relu): ReLU()\n",
      "  (sigmoid): Sigmoid()\n",
      ")\n"
     ]
    }
   ],
   "source": [
    "gnn_model = JointGNN().to(device)\n",
    "gnn_optimizer = torch.optim.Adam(gnn_model.parameters(), lr=0.001)\n",
    "gnn_best_model = 'best_gnn_model.model'\n",
    "\n",
    "print(gnn_model)\n"
   ]
  },
  {
   "cell_type": "code",
   "execution_count": 50,
   "metadata": {},
   "outputs": [
    {
     "name": "stdout",
     "output_type": "stream",
     "text": [
      "Validation Loss:  174.59846127033234\n",
      "----------------------------------------------------------------------------------------------------\n",
      "[Epoch 0] Loss: 165.54489836096764, Train Accuracy: 0.7022684310018904, Val Accuracy: 0.6062618595825426\n",
      "Validation Loss:  171.0984978452325\n",
      "----------------------------------------------------------------------------------------------------\n",
      "[Epoch 1] Loss: 103.67840510606766, Train Accuracy: 0.8601134215500945, Val Accuracy: 0.6850094876660342\n",
      "----------------------------------------------------------------------------------------------------\n",
      "[Epoch 2] Loss: 73.59957433491945, Train Accuracy: 0.9073724007561437, Val Accuracy: 0.7125237191650854\n",
      "----------------------------------------------------------------------------------------------------\n",
      "[Epoch 3] Loss: 59.79996847861912, Train Accuracy: 0.9262759924385633, Val Accuracy: 0.7087286527514232\n",
      "----------------------------------------------------------------------------------------------------\n",
      "[Epoch 4] Loss: 35.1465446697548, Train Accuracy: 0.9603024574669187, Val Accuracy: 0.713472485768501\n",
      "----------------------------------------------------------------------------------------------------\n",
      "[Epoch 5] Loss: 17.952472723292885, Train Accuracy: 0.9773156899810964, Val Accuracy: 0.7296015180265655\n",
      "----------------------------------------------------------------------------------------------------\n",
      "[Epoch 6] Loss: 23.620496944029583, Train Accuracy: 0.9678638941398866, Val Accuracy: 0.7096774193548387\n",
      "----------------------------------------------------------------------------------------------------\n",
      "[Epoch 7] Loss: 13.54159061035557, Train Accuracy: 0.9839319470699432, Val Accuracy: 0.7229601518026565\n",
      "----------------------------------------------------------------------------------------------------\n",
      "[Epoch 8] Loss: 39.75670584959636, Train Accuracy: 0.945179584120983, Val Accuracy: 0.6907020872865275\n",
      "----------------------------------------------------------------------------------------------------\n",
      "[Epoch 9] Loss: 6.706804145034766, Train Accuracy: 0.995274102079395, Val Accuracy: 0.74573055028463\n"
     ]
    },
    {
     "data": {
      "text/plain": [
       "<Figure size 432x288 with 0 Axes>"
      ]
     },
     "metadata": {},
     "output_type": "display_data"
    },
    {
     "data": {
      "image/png": "[encoded data removed]",
      "text/plain": [
       "<Figure size 432x288 with 1 Axes>"
      ]
     },
     "metadata": {
      "needs_background": "light"
     },
     "output_type": "display_data"
    },
    {
     "data": {
      "text/plain": [
       "<Figure size 432x288 with 0 Axes>"
      ]
     },
     "metadata": {},
     "output_type": "display_data"
    },
    {
     "data": {
      "image/png": "[encoded data removed]",
      "text/plain": [
       "<Figure size 432x288 with 1 Axes>"
      ]
     },
     "metadata": {
      "needs_background": "light"
     },
     "output_type": "display_data"
    },
    {
     "data": {
      "text/plain": [
       "<Figure size 432x288 with 0 Axes>"
      ]
     },
     "metadata": {},
     "output_type": "display_data"
    }
   ],
   "source": [
    "import sys\n",
    "import time\n",
    "\n",
    "epochs = 10\n",
    "validation_loss = 10000.0\n",
    "minibatch_size=4\n",
    "\n",
    "train_batcher = MiniBatcher(minibatch_size, len(x_train)) if minibatch_size > 0 else MiniBatcher(len(x_train), len(x_train))\n",
    "\n",
    "k=5\n",
    "hop=2\n",
    "neighbor_sampler=NeighborSampler(G_data,size=k,num_hops=hop,bipartite=False,batch_size=2*minibatch_size)\n",
    "\n",
    "X=G_data.x\n",
    "\n",
    "train_accs=[]\n",
    "val_accs=[]\n",
    "train_losses=[]\n",
    "val_losses=[]\n",
    "\n",
    "\n",
    "for num_epoch in range(epochs):\n",
    "    \n",
    "    #Training phase                      \n",
    "    t_start = time.time()\n",
    "    for train_idxs in train_batcher.get_one_batch():\n",
    "        train_idxs = train_idxs.to(device)\n",
    "        \n",
    "        train_edges=x_train[train_idxs]\n",
    "        target=y_train[train_idxs]\n",
    "\n",
    "        nodes=torch.flatten(train_edges)\n",
    "        neighbor_graph=neighbor_sampler(nodes)\n",
    "        \n",
    "        gnn_optimizer.zero_grad()        \n",
    "        \n",
    "        loss=gnn_model.compute_loss(G_data, neighbor_graph, nodes, train_edges, target)\n",
    "        #print(loss)\n",
    "        \n",
    "        loss.backward()\n",
    "        gnn_optimizer.step()\n",
    "    \n",
    "    t_end= time.time()\n",
    "    #print(\"Minibatch time: \",t_end-t_start)\n",
    "    \n",
    "    train_loss,train_acc=predict_model(gnn_model,G_data, x_train, y_train, minibatch_size, neighbor_sampler)\n",
    "    train_losses.append(train_loss)\n",
    "    train_accs.append(train_acc)\n",
    "    \n",
    "    val_loss,val_acc=predict_model(gnn_model,G_data, x_val, y_val, minibatch_size, neighbor_sampler)\n",
    "    val_losses.append(val_loss)\n",
    "    val_accs.append(val_acc)\n",
    "    \n",
    "    if val_loss < validation_loss:\n",
    "            validation_loss = val_loss\n",
    "            print(\"Validation Loss: \", validation_loss)\n",
    "            #Save Model\n",
    "            torch.save(gnn_model.state_dict(), gnn_best_model)\n",
    "    \n",
    "    print(\"-\"*100)\n",
    "    print(\"[Epoch {0}] Loss: {1}, Train Accuracy: {2}, Val Accuracy: {3}\".format(num_epoch, train_loss, train_acc, val_acc))\n",
    "    \n",
    "\n",
    "    \n",
    "save_plot(train_accs, val_accs, name='Accuracy')\n",
    "save_plot(train_losses, val_losses, name='Loss')\n",
    "\n"
   ]
  },
  {
   "cell_type": "code",
   "execution_count": null,
   "metadata": {},
   "outputs": [],
   "source": []
  },
  {
   "cell_type": "markdown",
   "metadata": {},
   "source": [
    "## Load the best model"
   ]
  },
  {
   "cell_type": "code",
   "execution_count": 51,
   "metadata": {},
   "outputs": [
    {
     "name": "stdout",
     "output_type": "stream",
     "text": [
      "Test Accuracy:  0.7523719165085389\n"
     ]
    }
   ],
   "source": [
    "gnn_model = JointGNN().to(device)\n",
    "gnn_model.load_state_dict(torch.load(gnn_best_model))\n",
    "\n",
    "test_loss,test_acc=predict_model(gnn_model,G_data, x_test, y_test, minibatch_size, neighbor_sampler)\n",
    "\n",
    "print(\"Test Accuracy: \",test_acc)\n"
   ]
  },
  {
   "cell_type": "markdown",
   "metadata": {},
   "source": [
    "## Forward pass on the test graphs"
   ]
  },
  {
   "cell_type": "code",
   "execution_count": null,
   "metadata": {},
   "outputs": [],
   "source": []
  }
 ],
 "metadata": {
  "kernelspec": {
   "display_name": "Python 3",
   "language": "python",
   "name": "python3"
  },
  "language_info": {
   "codemirror_mode": {
    "name": "ipython",
    "version": 3
   },
   "file_extension": ".py",
   "mimetype": "text/x-python",
   "name": "python",
   "nbconvert_exporter": "python",
   "pygments_lexer": "ipython3",
   "version": "3.7.6"
  }
 },
 "nbformat": 4,
 "nbformat_minor": 2
}
