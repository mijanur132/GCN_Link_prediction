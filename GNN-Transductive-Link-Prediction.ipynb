{
 "cells": [
  {
   "cell_type": "markdown",
   "metadata": {},
   "source": [
    "## GCN - Transductive Link Prediction using joint representation"
   ]
  },
  {
   "cell_type": "code",
   "execution_count": 15,
   "metadata": {},
   "outputs": [],
   "source": [
    "import torch\n",
    "import torch.nn as nn\n",
    "import numpy as np\n",
    "from torch.nn import init\n",
    "from random import shuffle, randint\n",
    "import torch.nn.functional as F\n",
    "from torch_geometric.datasets import Reddit, PPI, Planetoid\n",
    "from itertools import combinations, combinations_with_replacement\n",
    "from sklearn.metrics import f1_score, accuracy_score\n",
    "from sklearn.decomposition import TruncatedSVD\n",
    "from torch_geometric.data import NeighborSampler\n",
    "import matplotlib.pyplot as plt\n",
    "import sys\n",
    "import time\n"
   ]
  },
  {
   "cell_type": "markdown",
   "metadata": {},
   "source": [
    "## Define and load the dataset"
   ]
  },
  {
   "cell_type": "code",
   "execution_count": 16,
   "metadata": {},
   "outputs": [],
   "source": [
    "DATASET = 'cora'\n",
    "RUN_COUNT = 1\n",
    "PATH_TO_DATASETS_DIRECTORY = './'"
   ]
  },
  {
   "cell_type": "code",
   "execution_count": 17,
   "metadata": {},
   "outputs": [
    {
     "name": "stdout",
     "output_type": "stream",
     "text": [
      "cuda\n"
     ]
    }
   ],
   "source": [
    "datasets = {\n",
    "    'reddit': Reddit(root=PATH_TO_DATASETS_DIRECTORY + '/datasets/Reddit'),\n",
    "    'cora' : Planetoid(root=PATH_TO_DATASETS_DIRECTORY + '/datasets/Cora/', name='Cora'),\n",
    "    'citeseer' : Planetoid(root=PATH_TO_DATASETS_DIRECTORY + '/datasets/CiteSeer/', name='CiteSeer'),\n",
    "    'pubmed' : Planetoid(root=PATH_TO_DATASETS_DIRECTORY + '/datasets/PubMed/', name='PubMed'),\n",
    "}\n",
    "dataset = datasets[DATASET]\n",
    "data = dataset[0]\n",
    "device = torch.device(\"cuda\" if torch.cuda.is_available() else \"cpu\")\n",
    "\n",
    "print(device)"
   ]
  },
  {
   "cell_type": "code",
   "execution_count": 18,
   "metadata": {},
   "outputs": [
    {
     "name": "stdout",
     "output_type": "stream",
     "text": [
      "Printing Dataset Characteristics\n",
      "Name:  cora\n",
      "Total Number of Nodes:  2708\n",
      "Total Number of Training Nodes:  140\n",
      "Total Number of Val Nodes:  500\n",
      "Total Number of Test Nodes:  1000\n",
      "Num Node Features:  1433\n",
      "Num Node Classes:  7\n",
      "Number of Edges:  10556\n"
     ]
    }
   ],
   "source": [
    "print(\"Printing Dataset Characteristics\")\n",
    "print(\"Name: \", DATASET)\n",
    "print(\"Total Number of Nodes: \", data.num_nodes)\n",
    "print(\"Total Number of Training Nodes: \", data.train_mask.sum().item())\n",
    "print(\"Total Number of Val Nodes: \", data.val_mask.sum().item())\n",
    "print(\"Total Number of Test Nodes: \", data.test_mask.sum().item())\n",
    "print(\"Num Node Features: \", data.num_features)\n",
    "print(\"Num Node Classes: \", dataset.num_classes)\n",
    "print(\"Number of Edges: \", data.edge_index.shape[1])"
   ]
  },
  {
   "cell_type": "markdown",
   "metadata": {},
   "source": [
    "## Sample edges to create train, val and test links"
   ]
  },
  {
   "cell_type": "code",
   "execution_count": 19,
   "metadata": {},
   "outputs": [],
   "source": [
    "import sys\n",
    "from torch_geometric.data import Data\n",
    "\n",
    "\n",
    "def sample_edges(data,train_percent, val_percent, test_percent):\n",
    "    edges = data.edge_index.t()\n",
    "    adj_mat = torch.zeros((data.num_nodes,data.num_nodes))\n",
    "    adj_mat[edges[:,0], edges[:,1]] = 1\n",
    "    \n",
    "    true_edges=adj_mat.triu().nonzero()\n",
    "    num_edges=true_edges.shape[0]\n",
    "    \n",
    "    inverse_adj_mat = 1 - adj_mat\n",
    "    non_edges = inverse_adj_mat.triu().nonzero()\n",
    "    \n",
    "    num_non_edges  = non_edges.shape[0]\n",
    "    \n",
    "    total_samples= int(num_edges * np.minimum(train_percent+val_percent+test_percent,1.0))\n",
    "    \n",
    "    edges_sampled = edges[np.random.randint(num_edges, size=total_samples)]\n",
    "    non_edges_sampled = non_edges[np.random.randint(num_non_edges, size=total_samples)]\n",
    "    \n",
    "    #Remove sampled edges from the graph\n",
    "    \n",
    "    adj_mat[edges_sampled[:,0],edges_sampled[:,1]]=0\n",
    "    adj_mat[edges_sampled[:,1],edges_sampled[:,0]]=0\n",
    "    adj_mat[non_edges_sampled[:,0],non_edges_sampled[:,1]]=0\n",
    "    adj_mat[non_edges_sampled[:,1],non_edges_sampled[:,0]]=0\n",
    "    \n",
    "    n_test_percent=test_percent/(train_percent+val_percent+test_percent)\n",
    "    n_val_percent=val_percent/(train_percent+val_percent+test_percent)\n",
    "    n_train_percent=train_percent/(train_percent+val_percent+test_percent)\n",
    "    \n",
    "    test_size=int(n_test_percent*total_samples)\n",
    "    val_size=int(n_val_percent*total_samples)    \n",
    "    \n",
    "    x_test_pos=edges_sampled[0:test_size]\n",
    "    x_val_pos=edges_sampled[test_size:test_size+val_size]\n",
    "    x_train_pos=edges_sampled[test_size+val_size:]\n",
    "    \n",
    "    x_test_neg=non_edges_sampled[0:test_size]\n",
    "    x_val_neg=non_edges_sampled[test_size:test_size+val_size]\n",
    "    x_train_neg=non_edges_sampled[test_size+val_size:]\n",
    "    \n",
    "    \n",
    "    total=len(x_test_pos)+len(x_val_pos)+len(x_train_pos)\n",
    "    print(\"Positive: \",total_samples, len(x_train_pos), len(x_val_pos), len(x_test_pos), total )\n",
    "    \n",
    "    non_total=len(x_test_neg)+len(x_val_neg)+len(x_train_neg)\n",
    "    print(\"Negative: \",total_samples, len(x_train_neg), len(x_val_neg), len(x_test_neg), non_total )\n",
    "    \n",
    "    edges=adj_mat.nonzero()\n",
    "    edge_weight=torch.ones((len(edges)))\n",
    "    \n",
    "    y_train_pos=torch.ones((len(x_train_pos)))\n",
    "    y_val_pos=torch.ones((len(x_val_pos)))\n",
    "    y_test_pos=torch.ones((len(x_test_pos)))\n",
    "    \n",
    "    y_train_neg=torch.zeros((len(x_train_neg)))\n",
    "    y_val_neg=torch.zeros((len(x_val_neg)))\n",
    "    y_test_neg=torch.zeros((len(x_test_neg)))\n",
    "    \n",
    "        \n",
    "    G_data=Data(edge_index=edges.t(), edge_weight=edge_weight, x=data.x)\n",
    "    \n",
    "    return G_data, x_train_pos, y_train_pos,  x_train_neg, y_train_neg, x_val_pos, y_val_pos,  x_val_neg, y_val_neg, x_test_pos, y_test_pos,  x_test_neg, y_test_neg\n",
    "    \n",
    "    \n",
    "    "
   ]
  },
  {
   "cell_type": "markdown",
   "metadata": {},
   "source": [
    "## Create train test validation set"
   ]
  },
  {
   "cell_type": "code",
   "execution_count": 20,
   "metadata": {},
   "outputs": [
    {
     "name": "stdout",
     "output_type": "stream",
     "text": [
      "Positive:  1583 529 527 527 1583\n",
      "Negative:  1583 529 527 527 1583\n",
      "Data(edge_index=[2, 10556], test_mask=[2708], train_mask=[2708], val_mask=[2708], x=[2708, 1433], y=[2708])\n",
      "Data(edge_index=[2, 7948], edge_weight=[7948], x=[2708, 1433])\n"
     ]
    }
   ],
   "source": [
    "G_data, x_train_pos, y_train_pos,  x_train_neg, y_train_neg, x_val_pos, y_val_pos,  x_val_neg, y_val_neg, x_test_pos, y_test_pos,  x_test_neg, y_test_neg=sample_edges(data,0.10,0.10,0.10)\n",
    "\n",
    "print(data)\n",
    "print(G_data)\n",
    "\n",
    "x_train = torch.cat((x_train_pos,x_train_neg),dim=0).type(torch.long).to(device)\n",
    "y_train = torch.cat((y_train_pos,y_train_neg),dim=0).type(torch.long).to(device)\n",
    "\n",
    "x_val = torch.cat((x_val_pos,x_val_neg),dim=0).type(torch.long).to(device)\n",
    "y_val = torch.cat((y_val_pos,y_val_neg),dim=0).type(torch.long).to(device)\n",
    "\n",
    "x_test = torch.cat((x_test_pos,x_test_neg),dim=0).type(torch.long).to(device)\n",
    "y_test = torch.cat((y_test_pos,y_test_neg),dim=0).type(torch.long).to(device)\n"
   ]
  },
  {
   "cell_type": "markdown",
   "metadata": {},
   "source": [
    "## Define the GNN Network"
   ]
  },
  {
   "cell_type": "code",
   "execution_count": 21,
   "metadata": {},
   "outputs": [],
   "source": [
    "num_neurons = 50\n",
    "input_rep = data.num_features\n",
    "\n",
    "from torch_geometric.nn import GCNConv,GATConv,SAGEConv, GINConv\n",
    "GNNlayer=GCNConv\n",
    "\n",
    "class JointGNN(nn.Module):\n",
    "    def __init__(self):\n",
    "        super(JointGNN, self).__init__()\n",
    "        \n",
    "        self.GNN_layer1 = GNNlayer(input_rep,num_neurons)\n",
    "        self.GNN_layer2 = GNNlayer(num_neurons,num_neurons)\n",
    "        \n",
    "        self.linear1 = nn.Linear(num_neurons,num_neurons)\n",
    "        self.linear2 = nn.Linear(num_neurons,2)\n",
    "        \n",
    "        self.relu = nn.ReLU()\n",
    "        self.sigmoid = nn.Sigmoid()\n",
    "        \n",
    "        \n",
    "    def forward(self, x_feature, subgraphs, nodes, edges):\n",
    "        \n",
    "        \n",
    "        node_tensor = torch.zeros((len(nodes), num_neurons)).to(device)\n",
    "        node_count = torch.zeros((len(nodes)),requires_grad=False).to(device)\n",
    "\n",
    "        \n",
    "        for i in range(len(subgraphs)):\n",
    "        \n",
    "            graph=subgraphs[i]\n",
    "            \n",
    "            x=x_feature[i]\n",
    "            x=self.GNN_layer1(x,graph.edge_index, graph.edge_weight)\n",
    "            x=self.relu(x)\n",
    "            \n",
    "            x=self.GNN_layer2(x,graph.edge_index, graph.edge_weight)\n",
    "            x=self.relu(x)\n",
    "            \n",
    "            for n_id in graph.b_id:                            \n",
    "                sub_index=(graph.n_id==n_id).nonzero()[0]\n",
    "                sub_x=x[sub_index,:]\n",
    "                \n",
    "                node_index=(nodes==n_id).nonzero()[0]\n",
    "                \n",
    "                node_count[node_index]+=1\n",
    "                node_tensor[node_index,:]+=sub_x.view(-1)\n",
    "        \n",
    "        node_tensor=node_tensor / node_count[:, None]\n",
    "        \n",
    "        z_tensor = torch.zeros((len(edges), num_neurons)).to(device)\n",
    "        \n",
    "        link_no=0\n",
    "        for edge in edges:\n",
    "            u=(nodes==edge[0]).nonzero()[0]\n",
    "            v=(nodes==edge[1]).nonzero()[0]\n",
    "            \n",
    "            z_tensor[link_no,:]=(node_tensor[u,:]*node_tensor[v,:]).view(-1)\n",
    "            link_no+=1\n",
    "        \n",
    "        #One Hidden Layer for predictor\n",
    "        z_tensor = self.linear1(z_tensor)\n",
    "        z_tensor = self.relu(z_tensor)\n",
    "        z_tensor = self.linear2(z_tensor)\n",
    "        \n",
    "        return z_tensor\n",
    "\n",
    "    def compute_loss(self, x_feature, subgraphs, nodes, edges, target):\n",
    "        \n",
    "        pred = self.forward(x_feature, subgraphs, nodes, edges)\n",
    "        \n",
    "        return F.cross_entropy(pred, target)\n",
    "    \n",
    "    def predict(self, x_feature, subgraphs, nodes, edges, target):\n",
    "        \n",
    "        pred = self.forward(x_feature, subgraphs, nodes, edges)        \n",
    "        loss = F.cross_entropy(pred, target)\n",
    "        \n",
    "        return loss, pred\n",
    "        \n",
    "        "
   ]
  },
  {
   "cell_type": "markdown",
   "metadata": {},
   "source": [
    "## Edge Batch Loader"
   ]
  },
  {
   "cell_type": "code",
   "execution_count": 22,
   "metadata": {},
   "outputs": [],
   "source": [
    "import logging\n",
    "\n",
    "class MiniBatcher(object):\n",
    "    def __init__(self, batch_size, n_examples, shuffle=True):\n",
    "        assert batch_size <= n_examples, \"Error: batch_size is larger than n_examples\"\n",
    "        self.batch_size = batch_size\n",
    "        self.n_examples = n_examples\n",
    "        self.shuffle = shuffle\n",
    "        logging.info(\"batch_size={}, n_examples={}\".format(batch_size, n_examples))\n",
    "\n",
    "        self.idxs = np.arange(self.n_examples)\n",
    "        if self.shuffle:\n",
    "            np.random.shuffle(self.idxs)\n",
    "        self.current_start = 0\n",
    "\n",
    "    def get_one_batch(self):\n",
    "        self.idxs = np.arange(self.n_examples)\n",
    "        if self.shuffle:\n",
    "            np.random.shuffle(self.idxs)\n",
    "        self.current_start = 0\n",
    "        while self.current_start < self.n_examples:\n",
    "            batch_idxs = self.idxs[self.current_start:self.current_start+self.batch_size]\n",
    "            self.current_start += self.batch_size\n",
    "            yield torch.LongTensor(batch_idxs)"
   ]
  },
  {
   "cell_type": "markdown",
   "metadata": {},
   "source": [
    "## Prediction "
   ]
  },
  {
   "cell_type": "code",
   "execution_count": 23,
   "metadata": {},
   "outputs": [],
   "source": [
    "def predict_model(model,G_data, x_data, y_data, minibatch_size, neighbor_sampler):\n",
    "    \n",
    "    batcher = MiniBatcher(minibatch_size, len(x_data)) if minibatch_size > 0 else MiniBatcher(len(x_data), len(x_data))\n",
    "    \n",
    "    preds=np.array([])\n",
    "    targets=np.array([])\n",
    "    total_loss=0\n",
    "    \n",
    "    with torch.no_grad():\n",
    "        for x_idxs in batcher.get_one_batch():\n",
    "            x_idxs = x_idxs.to(device)\n",
    "\n",
    "            x_edges=x_data[x_idxs]\n",
    "            target=y_data[x_idxs]\n",
    "\n",
    "            nodes=torch.flatten(x_edges)\n",
    "            \n",
    "            neighbor_graph=neighbor_sampler(nodes.cpu())\n",
    "        \n",
    "            x_feature=[]\n",
    "            subgraphs=[]\n",
    "\n",
    "            for graph in neighbor_graph:\n",
    "\n",
    "                sub_nodes=graph.n_id\n",
    "                sub_edges=graph.e_id\n",
    "                graph[\"edge_weight\"]=G_data.edge_weight[sub_edges]            \n",
    "            \n",
    "                x_feature.append(torch.Tensor(G_data.x[sub_nodes]).to(device))\n",
    "                subgraphs.append(graph.to(device))\n",
    "\n",
    "            loss, pred=model.predict(x_feature, subgraphs, nodes, x_edges, target)                          \n",
    "            total_loss+=loss.item()\n",
    "            \n",
    "            pred = F.log_softmax(pred, dim=1)\n",
    "            pred = pred.detach().to(\"cpu\").numpy()\n",
    "            pred = np.argmax(pred, axis=1)\n",
    "                          \n",
    "            preds = np.append(preds,pred)\n",
    "            targets = np.append(targets,target.detach().to(\"cpu\").numpy())\n",
    "    \n",
    "    micro=f1_score(targets, preds, average='micro')\n",
    "    weighted=f1_score(targets, preds, average='weighted')\n",
    "    acc=accuracy_score(targets, preds)\n",
    "    \n",
    "    \n",
    "    return total_loss, acc, micro, weighted"
   ]
  },
  {
   "cell_type": "markdown",
   "metadata": {},
   "source": [
    "## Show and save Plots"
   ]
  },
  {
   "cell_type": "code",
   "execution_count": 24,
   "metadata": {},
   "outputs": [],
   "source": [
    "def save_plot(train_data, valid_data, name='Loss'):\n",
    "    \"\"\"Plot\n",
    "        Plot one figure: accurace/loss vs. epoch and accuracy vs. epoch\n",
    "    \"\"\"\n",
    "    n = len(train_data)\n",
    "    xs = np.arange(n)\n",
    "\n",
    "    # plot train and test accuracies\n",
    "    plt.clf()\n",
    "    fig, ax = plt.subplots()\n",
    "    ax.plot(xs, train_data, '--', linewidth=2, label='train')\n",
    "    ax.plot(xs, valid_data, '-', linewidth=2, label='valid')\n",
    "    ax.set_xlabel(\"Epoch\")\n",
    "    ax.set_ylabel(name)\n",
    "    ax.legend(loc='lower right')\n",
    "    plt.show()\n",
    "    plt.savefig('train_valid_'+name+'.png')\n",
    "    "
   ]
  },
  {
   "cell_type": "markdown",
   "metadata": {},
   "source": [
    "## Define the Model and Train the network"
   ]
  },
  {
   "cell_type": "code",
   "execution_count": 25,
   "metadata": {
    "scrolled": true
   },
   "outputs": [
    {
     "name": "stdout",
     "output_type": "stream",
     "text": [
      "JointGNN(\n",
      "  (GNN_layer1): GCNConv(1433, 50)\n",
      "  (GNN_layer2): GCNConv(50, 50)\n",
      "  (linear1): Linear(in_features=50, out_features=50, bias=True)\n",
      "  (linear2): Linear(in_features=50, out_features=2, bias=True)\n",
      "  (relu): ReLU()\n",
      "  (sigmoid): Sigmoid()\n",
      ")\n",
      "Minibatch time:  7.434285640716553\n",
      "Saving model Validation Accuracy:  0.6043643263757116\n",
      "----------------------------------------------------------------------------------------------------\n",
      "[Epoch 0] Train Loss: 342.1237107217312, Train Accuracy: 0.6965973534971645, Val Loss 348.9912263453007, Val Accuracy: 0.6043643263757116\n",
      "Minibatch time:  7.313271999359131\n",
      "Saving model Validation Accuracy:  0.650853889943074\n",
      "----------------------------------------------------------------------------------------------------\n",
      "[Epoch 1] Train Loss: 249.64581272006035, Train Accuracy: 0.8147448015122873, Val Loss 340.79165364801884, Val Accuracy: 0.650853889943074\n",
      "Minibatch time:  7.257330894470215\n",
      "Saving model Validation Accuracy:  0.715370018975332\n",
      "----------------------------------------------------------------------------------------------------\n",
      "[Epoch 2] Train Loss: 178.37417589128017, Train Accuracy: 0.8846880907372401, Val Loss 329.6997341066599, Val Accuracy: 0.715370018975332\n",
      "Minibatch time:  7.170690536499023\n",
      "Saving model Validation Accuracy:  0.7438330170777988\n",
      "----------------------------------------------------------------------------------------------------\n",
      "[Epoch 3] Train Loss: 106.29405957460403, Train Accuracy: 0.9366729678638941, Val Loss 376.42105290293694, Val Accuracy: 0.7438330170777988\n",
      "Minibatch time:  7.324988126754761\n",
      "----------------------------------------------------------------------------------------------------\n",
      "[Epoch 4] Train Loss: 69.77010343968868, Train Accuracy: 0.9593572778827977, Val Loss 414.518102273345, Val Accuracy: 0.7324478178368121\n",
      "Minibatch time:  7.220006465911865\n",
      "----------------------------------------------------------------------------------------------------\n",
      "[Epoch 5] Train Loss: 69.62531048059464, Train Accuracy: 0.9659735349716446, Val Loss 477.1614831984043, Val Accuracy: 0.7229601518026565\n",
      "Minibatch time:  7.211603403091431\n",
      "----------------------------------------------------------------------------------------------------\n",
      "[Epoch 6] Train Loss: 38.79388606548309, Train Accuracy: 0.9763705103969754, Val Loss 717.6692902892828, Val Accuracy: 0.7371916508538899\n",
      "Minibatch time:  7.216555595397949\n",
      "----------------------------------------------------------------------------------------------------\n",
      "[Epoch 7] Train Loss: 52.5902514308691, Train Accuracy: 0.9678638941398866, Val Loss 614.6755516380072, Val Accuracy: 0.7400379506641366\n",
      "Minibatch time:  7.231736660003662\n",
      "----------------------------------------------------------------------------------------------------\n",
      "[Epoch 8] Train Loss: 20.31252932548523, Train Accuracy: 0.994328922495274, Val Loss 626.0981408804655, Val Accuracy: 0.7352941176470589\n",
      "Minibatch time:  7.2615132331848145\n",
      "----------------------------------------------------------------------------------------------------\n",
      "[Epoch 9] Train Loss: 20.902403876185417, Train Accuracy: 0.9896030245746692, Val Loss 846.1357918828726, Val Accuracy: 0.7381404174573055\n",
      "Minibatch time:  7.225541830062866\n",
      "----------------------------------------------------------------------------------------------------\n",
      "[Epoch 10] Train Loss: 28.15729123353958, Train Accuracy: 0.9848771266540642, Val Loss 768.8944435417652, Val Accuracy: 0.7305502846299811\n",
      "Minibatch time:  7.182517766952515\n",
      "----------------------------------------------------------------------------------------------------\n",
      "[Epoch 11] Train Loss: 32.18353970348835, Train Accuracy: 0.9810964083175804, Val Loss 945.3767388314009, Val Accuracy: 0.7352941176470589\n",
      "Minibatch time:  7.2800493240356445\n",
      "----------------------------------------------------------------------------------------------------\n",
      "[Epoch 12] Train Loss: 7.132412418723106, Train Accuracy: 1.0, Val Loss 781.4400882422924, Val Accuracy: 0.7381404174573055\n",
      "Minibatch time:  7.283345460891724\n",
      "----------------------------------------------------------------------------------------------------\n",
      "[Epoch 13] Train Loss: 16.555889531970024, Train Accuracy: 0.9914933837429112, Val Loss 904.2782378047705, Val Accuracy: 0.7362428842504743\n",
      "Minibatch time:  7.19269323348999\n",
      "----------------------------------------------------------------------------------------------------\n",
      "[Epoch 14] Train Loss: 9.765770375728607, Train Accuracy: 0.9924385633270322, Val Loss 1089.9563309252262, Val Accuracy: 0.7239089184060721\n",
      "Minibatch time:  4.80753493309021\n",
      "----------------------------------------------------------------------------------------------------\n",
      "[Epoch 15] Train Loss: 99.30264274775982, Train Accuracy: 0.9517958412098299, Val Loss 1868.9593029022217, Val Accuracy: 0.6669829222011385\n",
      "Minibatch time:  4.818451166152954\n",
      "Saving model Validation Accuracy:  0.7523719165085389\n",
      "----------------------------------------------------------------------------------------------------\n",
      "[Epoch 16] Train Loss: 8.73339194059372, Train Accuracy: 0.995274102079395, Val Loss 914.0048591941595, Val Accuracy: 0.7523719165085389\n",
      "Minibatch time:  4.917985439300537\n",
      "----------------------------------------------------------------------------------------------------\n",
      "[Epoch 17] Train Loss: 19.608017578721046, Train Accuracy: 0.9886578449905482, Val Loss 1163.4955437481403, Val Accuracy: 0.7362428842504743\n",
      "Minibatch time:  4.749213218688965\n",
      "----------------------------------------------------------------------------------------------------\n",
      "[Epoch 18] Train Loss: 3.780164450407028, Train Accuracy: 0.996219281663516, Val Loss 1196.3563244193792, Val Accuracy: 0.74573055028463\n",
      "Minibatch time:  4.810923337936401\n",
      "----------------------------------------------------------------------------------------------------\n",
      "[Epoch 19] Train Loss: 13.173028722405434, Train Accuracy: 0.9924385633270322, Val Loss 1194.340176090598, Val Accuracy: 0.7495256166982922\n"
     ]
    },
    {
     "data": {
      "text/plain": [
       "<Figure size 432x288 with 0 Axes>"
      ]
     },
     "metadata": {},
     "output_type": "display_data"
    },
    {
     "data": {
      "image/png": "[encoded data removed]",
      "text/plain": [
       "<Figure size 432x288 with 1 Axes>"
      ]
     },
     "metadata": {
      "needs_background": "light"
     },
     "output_type": "display_data"
    },
    {
     "data": {
      "text/plain": [
       "<Figure size 432x288 with 0 Axes>"
      ]
     },
     "metadata": {},
     "output_type": "display_data"
    },
    {
     "data": {
      "image/png": "[encoded data removed]",
      "text/plain": [
       "<Figure size 432x288 with 1 Axes>"
      ]
     },
     "metadata": {
      "needs_background": "light"
     },
     "output_type": "display_data"
    },
    {
     "data": {
      "text/plain": [
       "<Figure size 432x288 with 0 Axes>"
      ]
     },
     "metadata": {},
     "output_type": "display_data"
    }
   ],
   "source": [
    "gnn_model = JointGNN().to(device)\n",
    "gnn_optimizer = torch.optim.Adam(gnn_model.parameters(), lr=0.001)\n",
    "gnn_best_model = 'best_gnn_model.model'\n",
    "\n",
    "print(gnn_model)\n",
    "\n",
    "epochs = 20\n",
    "validation_acc = 0\n",
    "minibatch_size=2\n",
    "\n",
    "train_batcher = MiniBatcher(minibatch_size, len(x_train)) if minibatch_size > 0 else MiniBatcher(len(x_train), len(x_train))\n",
    "\n",
    "k=5\n",
    "hop=2\n",
    "\n",
    "neighbor_sampler=NeighborSampler(G_data,size=k,num_hops=hop,bipartite=False,batch_size=2*minibatch_size)\n",
    "\n",
    "train_accs=[]\n",
    "val_accs=[]\n",
    "train_losses=[]\n",
    "val_losses=[]\n",
    "\n",
    "for num_epoch in range(epochs):\n",
    "    \n",
    "    #Training phase                      \n",
    "    t_start = time.time()\n",
    "    for train_idxs in train_batcher.get_one_batch():\n",
    "        train_idxs = train_idxs.to(device)\n",
    "        \n",
    "        train_edges=x_train[train_idxs]\n",
    "        target=y_train[train_idxs]\n",
    "\n",
    "        nodes=torch.flatten(train_edges)\n",
    "        neighbor_graph=neighbor_sampler(nodes.cpu())\n",
    "        \n",
    "        x_feature=[]\n",
    "        subgraphs=[]\n",
    "        \n",
    "        for graph in neighbor_graph:\n",
    "                \n",
    "            sub_nodes=graph.n_id\n",
    "            sub_edges=graph.e_id\n",
    "            \n",
    "            graph[\"edge_weight\"]=G_data.edge_weight[sub_edges]            \n",
    "            \n",
    "            x_feature.append(torch.Tensor(G_data.x[sub_nodes]).to(device))\n",
    "            subgraphs.append(graph.to(device))\n",
    "        \n",
    "        \n",
    "        gnn_optimizer.zero_grad()        \n",
    "        \n",
    "        loss=gnn_model.compute_loss(x_feature, subgraphs, nodes, train_edges, target)\n",
    "        #print(loss)\n",
    "        \n",
    "        loss.backward()\n",
    "        gnn_optimizer.step()\n",
    "    \n",
    "    t_end= time.time()\n",
    "    print(\"Minibatch time: \",t_end-t_start)\n",
    "    \n",
    "    train_loss,train_acc,_,_=predict_model(gnn_model,G_data, x_train, y_train, minibatch_size, neighbor_sampler)\n",
    "    train_losses.append(train_loss)\n",
    "    train_accs.append(train_acc)\n",
    "    \n",
    "    val_loss,val_acc,_,_=predict_model(gnn_model,G_data, x_val, y_val, minibatch_size, neighbor_sampler)\n",
    "    val_losses.append(val_loss)\n",
    "    val_accs.append(val_acc)\n",
    "    \n",
    "    if val_acc > validation_acc:\n",
    "            validation_acc = val_acc\n",
    "            print(\"Saving model Validation Accuracy: \", validation_acc)\n",
    "            #Save Model\n",
    "            torch.save(gnn_model.state_dict(), gnn_best_model)\n",
    "    \n",
    "    print(\"-\"*100)\n",
    "    print(\"[Epoch {0}] Train Loss: {1}, Train Accuracy: {2}, Val Loss {3}, Val Accuracy: {4}\".format(num_epoch, train_loss, train_acc, val_loss, val_acc))\n",
    "    \n",
    "\n",
    "    \n",
    "save_plot(train_accs, val_accs, name='Accuracy')\n",
    "save_plot(train_losses, val_losses, name='Loss')\n",
    "\n"
   ]
  },
  {
   "cell_type": "markdown",
   "metadata": {},
   "source": [
    "## Load the best model,  Forward pass on the test graphs"
   ]
  },
  {
   "cell_type": "code",
   "execution_count": 26,
   "metadata": {},
   "outputs": [
    {
     "name": "stdout",
     "output_type": "stream",
     "text": [
      "Test Micro F1 Score:  0.7333965844402277\n",
      "Test Weighted F1 Score:  0.7329521120004472\n",
      "Test Accuracy Score:  0.7333965844402277\n"
     ]
    }
   ],
   "source": [
    "gnn_best_model = 'best_gnn_model.model'\n",
    "gnn_model = JointGNN().to(device)\n",
    "gnn_model.load_state_dict(torch.load(gnn_best_model))\n",
    "\n",
    "test_loss,test_acc,test_micro,test_weighted=predict_model(gnn_model,G_data, x_test, y_test, minibatch_size, neighbor_sampler)\n",
    "\n",
    "print(\"Test Micro F1 Score: \", test_micro)\n",
    "print(\"Test Weighted F1 Score: \", test_weighted)\n",
    "print(\"Test Accuracy Score: \", test_acc)"
   ]
  },
  {
   "cell_type": "markdown",
   "metadata": {},
   "source": [
    "## Scratch"
   ]
  },
  {
   "cell_type": "code",
   "execution_count": 27,
   "metadata": {},
   "outputs": [],
   "source": [
    "# from torch_geometric.data import NeighborSampler\n",
    "\n",
    "# print(G_data)\n",
    "\n",
    "        \n",
    "# k=5\n",
    "# hop=2\n",
    "\n",
    "\n",
    "# neighbor_sampler=NeighborSampler(G_data,size=k,num_hops=hop,bipartite=False,batch_size=2)\n",
    "\n",
    "# for j in range(1):\n",
    "    \n",
    "#     print(\"=\"*100)\n",
    "    \n",
    "#     n_id=torch.Tensor([1,2,3,4,5,6]).type(torch.long)\n",
    "\n",
    "#     for i in neighbor_sampler(n_id):\n",
    "#         i[\"sid\"]=1\n",
    "        \n",
    "#         print(i)\n",
    "#         print(i.edge_index)\n",
    "#         print(i.n_id)\n",
    "#         print(i.e_id)\n",
    "#         print(i.b_id)\n",
    "#         print(i.sub_b_id)\n",
    "        \n",
    "        \n",
    "        \n",
    "#     print(\"=\"*100)\n",
    "\n",
    "# nodes=torch.Tensor([1,2,3])\n",
    "\n",
    "# res = dict(zip(nodes, torch.arange(0,len(nodes)).type(torch.long)))\n",
    "\n",
    "# print(res)\n",
    "\n",
    "# (nodes==2).nonzero()[0]\n",
    "\n",
    "#nodes=torch.Tensor([[1,2,3],[4,5,6]])\n",
    "#counts=torch.Tensor([1,2])\n",
    "\n",
    "#print(nodes / counts[:, None])\n",
    "\n",
    "# edges=torch.Tensor([[1,2],[4,5]])\n",
    "\n",
    "\n",
    "# for edge in edges:\n",
    "#     print(edge)\n"
   ]
  }
 ],
 "metadata": {
  "kernelspec": {
   "display_name": "Conda cs690_37",
   "language": "python",
   "name": "cs690_37"
  },
  "language_info": {
   "codemirror_mode": {
    "name": "ipython",
    "version": 3
   },
   "file_extension": ".py",
   "mimetype": "text/x-python",
   "name": "python",
   "nbconvert_exporter": "python",
   "pygments_lexer": "ipython3",
   "version": "3.7.6"
  }
 },
 "nbformat": 4,
 "nbformat_minor": 2
}
