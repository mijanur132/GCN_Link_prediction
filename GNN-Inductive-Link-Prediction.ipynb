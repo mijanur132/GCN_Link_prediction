{
 "cells": [
  {
   "cell_type": "markdown",
   "metadata": {},
   "source": [
    "# GNN-Inductive- Link Prediction"
   ]
  },
  {
   "cell_type": "code",
   "execution_count": 27,
   "metadata": {},
   "outputs": [],
   "source": [
    "import torch\n",
    "import torch.nn as nn\n",
    "import numpy as np\n",
    "from torch.nn import init\n",
    "from random import shuffle, randint\n",
    "import torch.nn.functional as F\n",
    "from torch_geometric.datasets import Reddit, PPI, Planetoid\n",
    "from itertools import combinations, combinations_with_replacement\n",
    "from sklearn.metrics import f1_score, accuracy_score\n",
    "from sklearn.decomposition import TruncatedSVD\n",
    "from torch_geometric.data import NeighborSampler\n",
    "import matplotlib.pyplot as plt\n",
    "import sys\n",
    "from torch_geometric.data import Data\n",
    "import logging\n",
    "import time\n"
   ]
  },
  {
   "cell_type": "markdown",
   "metadata": {},
   "source": [
    "## Define the dataset, the type of prediction and the number of samples"
   ]
  },
  {
   "cell_type": "code",
   "execution_count": 28,
   "metadata": {},
   "outputs": [],
   "source": [
    "DATASET = 'cora'\n",
    "PREDICTION = 'link'\n",
    "RUN_COUNT = 1\n",
    "NUM_SAMPLES = 1\n",
    "PATH_TO_DATASETS_DIRECTORY = './'"
   ]
  },
  {
   "cell_type": "code",
   "execution_count": 29,
   "metadata": {},
   "outputs": [
    {
     "name": "stdout",
     "output_type": "stream",
     "text": [
      "cuda\n"
     ]
    }
   ],
   "source": [
    "datasets = {\n",
    "    'reddit': Reddit(root=PATH_TO_DATASETS_DIRECTORY + '/datasets/Reddit'),\n",
    "    'cora' : Planetoid(root=PATH_TO_DATASETS_DIRECTORY + '/datasets/Cora/', name='Cora'),\n",
    "    'citeseer' : Planetoid(root=PATH_TO_DATASETS_DIRECTORY + '/datasets/CiteSeer/', name='CiteSeer'),\n",
    "    'pubmed' : Planetoid(root=PATH_TO_DATASETS_DIRECTORY + '/datasets/PubMed/', name='PubMed'),\n",
    "}\n",
    "dataset = datasets[DATASET]\n",
    "data = dataset[0]\n",
    "device = torch.device(\"cuda\" if torch.cuda.is_available() else \"cpu\")\n",
    "\n",
    "print(device)"
   ]
  },
  {
   "cell_type": "code",
   "execution_count": 30,
   "metadata": {},
   "outputs": [
    {
     "name": "stdout",
     "output_type": "stream",
     "text": [
      "Printing Dataset Characteristics\n",
      "Name:  cora\n",
      "Total Number of Nodes:  2708\n",
      "Total Number of Training Nodes:  140\n",
      "Total Number of Val Nodes:  500\n",
      "Total Number of Test Nodes:  1000\n",
      "Num Node Features:  1433\n",
      "Num Node Classes:  7\n",
      "Number of Edges:  10556\n",
      "Number of Samples for structural:  1\n",
      "Prediction Type:  link\n"
     ]
    }
   ],
   "source": [
    "print(\"Printing Dataset Characteristics\")\n",
    "print(\"Name: \", DATASET)\n",
    "print(\"Total Number of Nodes: \", data.num_nodes)\n",
    "print(\"Total Number of Training Nodes: \", data.train_mask.sum().item())\n",
    "print(\"Total Number of Val Nodes: \", data.val_mask.sum().item())\n",
    "print(\"Total Number of Test Nodes: \", data.test_mask.sum().item())\n",
    "print(\"Num Node Features: \", data.num_features)\n",
    "print(\"Num Node Classes: \", dataset.num_classes)\n",
    "print(\"Number of Edges: \", data.edge_index.shape[1])\n",
    "print(\"Number of Samples for structural: \", NUM_SAMPLES)\n",
    "print(\"Prediction Type: \", PREDICTION)"
   ]
  },
  {
   "cell_type": "code",
   "execution_count": 31,
   "metadata": {},
   "outputs": [],
   "source": [
    "#data.train_mask = 1 - data.val_mask - data.test_mask\n",
    "data.train_mask = ~(data.val_mask + data.test_mask)\n",
    "\n",
    "adj_mat = torch.zeros((data.num_nodes,data.num_nodes))\n",
    "edges = data.edge_index.t()\n",
    "adj_mat[edges[:,0], edges[:,1]] = 1"
   ]
  },
  {
   "cell_type": "markdown",
   "metadata": {},
   "source": [
    "## Build the non-overlapping induced subgraphs"
   ]
  },
  {
   "cell_type": "code",
   "execution_count": 32,
   "metadata": {},
   "outputs": [],
   "source": [
    "adj_train = adj_mat[data.train_mask].t()[data.train_mask].t()\n",
    "adj_validation = adj_mat[data.val_mask].t()[data.val_mask].t()\n",
    "adj_test = adj_mat[data.test_mask].t()[data.test_mask].t()"
   ]
  },
  {
   "cell_type": "markdown",
   "metadata": {},
   "source": [
    "## Corrupt a small fraction of the edges"
   ]
  },
  {
   "cell_type": "code",
   "execution_count": 33,
   "metadata": {},
   "outputs": [],
   "source": [
    "def corrupt_adj(adj_mat, task, percent=2):\n",
    "    \"\"\" Returns the corrupted version of the adjacency matrix \"\"\"\n",
    "    if task == 'link':\n",
    "        edges = adj_mat.triu().nonzero()\n",
    "        num_edges = edges.shape[0]\n",
    "        num_to_corrupt = int(percent/100.0 * num_edges)\n",
    "        random_corruption = np.random.randint(num_edges, size=num_to_corrupt)\n",
    "        adj_mat_corrupted = adj_mat.clone()\n",
    "        false_edges, false_non_edges = [], []\n",
    "        #Edge Corruption\n",
    "        for ed in edges[random_corruption]:\n",
    "            adj_mat_corrupted[ed[0], ed[1]] = 0\n",
    "            adj_mat_corrupted[ed[1], ed[0]] = 0\n",
    "            false_non_edges.append(ed.tolist())\n",
    "        #Non Edge Corruption\n",
    "        random_non_edge_corruption = list(np.random.randint(adj_mat.shape[0], size = 6*num_to_corrupt))\n",
    "        non_edge_to_corrupt = []\n",
    "        for k in range(len(random_non_edge_corruption)-1):\n",
    "            to_check = [random_non_edge_corruption[k], random_non_edge_corruption[k+1]]\n",
    "            if to_check not in edges.tolist():\n",
    "                non_edge_to_corrupt.append(to_check)\n",
    "            if len(non_edge_to_corrupt) == num_to_corrupt:\n",
    "                break\n",
    "        non_edge_to_corrupt = torch.Tensor(non_edge_to_corrupt).type(torch.int16)\n",
    "        for n_ed in non_edge_to_corrupt:\n",
    "            adj_mat_corrupted[n_ed[0], n_ed[1]] = 1\n",
    "            adj_mat_corrupted[n_ed[1], n_ed[0]] = 1\n",
    "            false_edges.append(n_ed.tolist())\n",
    "    return adj_mat_corrupted, false_edges, false_non_edges\n"
   ]
  },
  {
   "cell_type": "code",
   "execution_count": 34,
   "metadata": {},
   "outputs": [],
   "source": [
    "adj_train_corrupted, train_false_edges, train_false_non_edges = corrupt_adj(adj_train, 'link', percent=2)\n",
    "adj_val_corrupted, val_false_edges, val_false_non_edges = corrupt_adj(adj_validation, 'link', percent=2)\n",
    "adj_test_corrupted, test_false_edges, test_false_non_edges  = corrupt_adj(adj_test, 'link', percent=2)\n",
    "\n",
    "# print(adj_train_corrupted)\n",
    "# print(len(train_false_edges))\n",
    "# print(len(train_false_non_edges))\n",
    "\n",
    "#print(len(adj_train.nonzero())+len(adj_validation.nonzero())+len(adj_test.nonzero()))"
   ]
  },
  {
   "cell_type": "markdown",
   "metadata": {},
   "source": [
    "## Define the GNN network"
   ]
  },
  {
   "cell_type": "code",
   "execution_count": 35,
   "metadata": {},
   "outputs": [],
   "source": [
    "num_neurons = 256\n",
    "input_rep = data.num_features\n",
    "\n",
    "from torch_geometric.nn import GCNConv,GATConv,SAGEConv, GINConv\n",
    "GNNlayer=GCNConv\n",
    "\n",
    "class JointGNN(nn.Module):\n",
    "    def __init__(self):\n",
    "        super(JointGNN, self).__init__()\n",
    "        \n",
    "        self.GNN_layer1 = GNNlayer(input_rep,num_neurons)\n",
    "        self.GNN_layer2 = GNNlayer(num_neurons,num_neurons)\n",
    "        \n",
    "        self.linear1 = nn.Linear(num_neurons,num_neurons)\n",
    "        self.linear2 = nn.Linear(num_neurons,2)\n",
    "        \n",
    "        self.relu = nn.ReLU()\n",
    "        self.sigmoid = nn.Sigmoid()\n",
    "        \n",
    "        \n",
    "    def forward(self, x_feature, subgraphs, nodes, edges):\n",
    "        \n",
    "        \n",
    "        node_tensor = torch.zeros((len(nodes), num_neurons)).to(device)\n",
    "        node_count = torch.zeros((len(nodes)),requires_grad=False).to(device)\n",
    "\n",
    "        \n",
    "        for i in range(len(subgraphs)):\n",
    "        \n",
    "            graph=subgraphs[i]\n",
    "            \n",
    "            x=x_feature[i]\n",
    "            x=self.GNN_layer1(x,graph.edge_index)\n",
    "            x=self.relu(x)\n",
    "            \n",
    "            x=self.GNN_layer2(x,graph.edge_index)\n",
    "            x=self.relu(x)\n",
    "            \n",
    "            for n_id in graph.b_id:                            \n",
    "                sub_index=(graph.n_id==n_id).nonzero()[0]\n",
    "                sub_x=x[sub_index,:]\n",
    "                \n",
    "                node_index=(nodes==n_id).nonzero()[0]\n",
    "                \n",
    "                node_count[node_index]+=1\n",
    "                node_tensor[node_index,:]+=sub_x.view(-1)\n",
    "                    \n",
    "        node_tensor=node_tensor / node_count[:, None]\n",
    "        \n",
    "        z_tensor = torch.zeros((len(edges), num_neurons)).to(device)\n",
    "        \n",
    "        link_no=0\n",
    "        for edge in edges:\n",
    "            u=(nodes==edge[0]).nonzero()[0]\n",
    "            v=(nodes==edge[1]).nonzero()[0]\n",
    "            \n",
    "            z_tensor[link_no,:]=(node_tensor[u,:]*node_tensor[v,:]).view(-1)\n",
    "            link_no+=1\n",
    "        \n",
    "        \n",
    "        #One Hidden Layer for predictor\n",
    "        z_tensor = self.linear1(z_tensor)\n",
    "        z_tensor = self.relu(z_tensor)\n",
    "        z_tensor = self.linear2(z_tensor)\n",
    "        \n",
    "        return z_tensor\n",
    "\n",
    "    def compute_loss(self, x_feature, subgraphs, nodes, edges, target):\n",
    "        \n",
    "        pred = self.forward(x_feature, subgraphs, nodes, edges)\n",
    "        \n",
    "        return F.cross_entropy(pred, target)\n",
    "    \n",
    "    def predict(self, x_feature, subgraphs, nodes, edges, target):\n",
    "        \n",
    "        pred = self.forward(x_feature, subgraphs, nodes, edges)        \n",
    "        loss = F.cross_entropy(pred, target)\n",
    "        \n",
    "        return loss, pred\n",
    "        \n",
    "        "
   ]
  },
  {
   "cell_type": "markdown",
   "metadata": {},
   "source": [
    "## Sample positive and negative edges"
   ]
  },
  {
   "cell_type": "code",
   "execution_count": 36,
   "metadata": {},
   "outputs": [],
   "source": [
    "def sample_equal_number_edges_non_edges(adj_mat, false_non_edges, false_edges, small_samples):\n",
    "    edges = adj_mat.nonzero()\n",
    "    num_edges = edges.shape[0]\n",
    "    inverse_adj_mat = 1 - adj_mat\n",
    "    non_edges = inverse_adj_mat.nonzero()\n",
    "    num_non_edges  = non_edges.shape[0]\n",
    "    edges_sampled = edges[np.random.randint(num_edges, size=small_samples)]\n",
    "    non_edges_sampled = non_edges[np.random.randint(num_non_edges, size=small_samples)]\n",
    "    final_edges = []\n",
    "    final_non_edges = []\n",
    "    for ed in edges_sampled.tolist():\n",
    "        if ed not in false_edges:\n",
    "            final_edges.append(ed)\n",
    "    final_edges += false_non_edges\n",
    "    for n_ed in non_edges_sampled.tolist():\n",
    "        if n_ed not in false_non_edges:\n",
    "            final_non_edges.append(n_ed)\n",
    "    final_non_edges += false_edges\n",
    "\n",
    "    return final_edges, final_non_edges"
   ]
  },
  {
   "cell_type": "markdown",
   "metadata": {},
   "source": [
    "## Minibatch of edges"
   ]
  },
  {
   "cell_type": "code",
   "execution_count": 37,
   "metadata": {},
   "outputs": [],
   "source": [
    "class MiniBatcher(object):\n",
    "    def __init__(self, batch_size, n_examples, shuffle=True):\n",
    "        assert batch_size <= n_examples, \"Error: batch_size is larger than n_examples\"\n",
    "        self.batch_size = batch_size\n",
    "        self.n_examples = n_examples\n",
    "        self.shuffle = shuffle\n",
    "        logging.info(\"batch_size={}, n_examples={}\".format(batch_size, n_examples))\n",
    "\n",
    "        self.idxs = np.arange(self.n_examples)\n",
    "        if self.shuffle:\n",
    "            np.random.shuffle(self.idxs)\n",
    "        self.current_start = 0\n",
    "\n",
    "    def get_one_batch(self):\n",
    "        self.idxs = np.arange(self.n_examples)\n",
    "        if self.shuffle:\n",
    "            np.random.shuffle(self.idxs)\n",
    "        self.current_start = 0\n",
    "        while self.current_start < self.n_examples:\n",
    "            batch_idxs = self.idxs[self.current_start:self.current_start+self.batch_size]\n",
    "            self.current_start += self.batch_size\n",
    "            yield torch.LongTensor(batch_idxs)"
   ]
  },
  {
   "cell_type": "markdown",
   "metadata": {},
   "source": [
    "## Prediction"
   ]
  },
  {
   "cell_type": "code",
   "execution_count": 38,
   "metadata": {},
   "outputs": [],
   "source": [
    "def predict_model(model,G_data, neighbor_sampler, minibatch_size, small_samples, adj_corrupted, false_non_edges, false_edges):\n",
    "    \n",
    "    preds=np.array([])\n",
    "    targets=np.array([])\n",
    "    total_loss=0\n",
    "    \n",
    "    edges, non_edges = sample_equal_number_edges_non_edges(adj_corrupted, false_non_edges, false_edges, small_samples)    \n",
    "    samples = torch.cat((torch.Tensor(edges), torch.Tensor(non_edges)),dim=0).type(torch.long).to(device)\n",
    "    true_target = torch.cat((torch.ones(len(edges)), torch.zeros(len(non_edges))),dim=0).type(torch.long).to(device)\n",
    "    \n",
    "    batcher = MiniBatcher(minibatch_size, len(samples)) if minibatch_size > 0 else MiniBatcher(len(samples), len(samples))\n",
    "    \n",
    "    t_start = time.time()\n",
    "    \n",
    "    with torch.no_grad():\n",
    "        for x_idxs in batcher.get_one_batch():\n",
    "            x_idxs = x_idxs.to(device)\n",
    "\n",
    "            x_edges=samples[x_idxs]\n",
    "            y_target=true_target[x_idxs]\n",
    "\n",
    "            nodes=torch.flatten(x_edges)            \n",
    "            neighbor_graph=neighbor_sampler(nodes.cpu())\n",
    "        \n",
    "            x_feature=[]\n",
    "            subgraphs=[]\n",
    "\n",
    "            for graph in neighbor_graph:\n",
    "\n",
    "                sub_nodes=graph.n_id\n",
    "                sub_edges=graph.e_id\n",
    "            \n",
    "                x_feature.append(torch.Tensor(G_data.x[sub_nodes]).to(device))\n",
    "                subgraphs.append(graph.to(device))\n",
    "\n",
    "            loss, pred=model.predict(x_feature, subgraphs, nodes, x_edges, y_target)                          \n",
    "            total_loss+=loss.item()\n",
    "            \n",
    "            pred = F.log_softmax(pred, dim=1)\n",
    "            pred = pred.detach().to(\"cpu\").numpy()\n",
    "            pred = np.argmax(pred, axis=1)\n",
    "                          \n",
    "            preds = np.append(preds,pred)\n",
    "            targets = np.append(targets,y_target.detach().to(\"cpu\").numpy())\n",
    "        \n",
    "\n",
    "    micro=f1_score(targets, preds, average='micro')\n",
    "    weighted=f1_score(targets, preds, average='weighted')\n",
    "    acc=accuracy_score(targets, preds)\n",
    "        \n",
    "#     print(\"Micro F1 Score: \", micro )\n",
    "#     print(\"Weighted F1 Score: \", weighted)\n",
    "#     print(\"Accuracy Score: \", acc)\n",
    "    \n",
    "    \n",
    "    return total_loss, acc, micro, weighted"
   ]
  },
  {
   "cell_type": "markdown",
   "metadata": {},
   "source": [
    "## Plot Accuracy and Loss "
   ]
  },
  {
   "cell_type": "code",
   "execution_count": 39,
   "metadata": {},
   "outputs": [],
   "source": [
    "def save_plot(train_data, valid_data, name='Loss'):\n",
    "    \"\"\"Plot\n",
    "        Plot one figure: accurace/loss vs. epoch and accuracy vs. epoch\n",
    "    \"\"\"\n",
    "    n = len(train_data)\n",
    "    xs = np.arange(n)\n",
    "\n",
    "    # plot train and test accuracies\n",
    "    plt.clf()\n",
    "    fig, ax = plt.subplots()\n",
    "    ax.plot(xs, train_data, '--', linewidth=2, label='train')\n",
    "    ax.plot(xs, valid_data, '-', linewidth=2, label='valid')\n",
    "    ax.set_xlabel(\"Epoch\")\n",
    "    ax.set_ylabel(name)\n",
    "    ax.legend(loc='lower right')\n",
    "    plt.show()\n",
    "    plt.savefig('train_valid_'+name+'.png')"
   ]
  },
  {
   "cell_type": "markdown",
   "metadata": {},
   "source": [
    "## Train the model"
   ]
  },
  {
   "cell_type": "code",
   "execution_count": 40,
   "metadata": {},
   "outputs": [
    {
     "name": "stdout",
     "output_type": "stream",
     "text": [
      "Minibatch time:  2.3826546669006348\n",
      "Saving model Validation accuracy:  0.49754901960784315\n",
      "----------------------------------------------------------------------------------------------------\n",
      "[Epoch 0] Train Loss: 157.14372904598713, Train Accuracy: 0.5640449438202247, Val Loss 141.4318247437477, Val Accuracy: 0.49754901960784315\n",
      "Minibatch time:  2.2680044174194336\n",
      "----------------------------------------------------------------------------------------------------\n",
      "[Epoch 1] Train Loss: 153.2323256880045, Train Accuracy: 0.5650224215246636, Val Loss 141.12921726703644, Val Accuracy: 0.4963144963144963\n",
      "Minibatch time:  2.2291038036346436\n",
      "Saving model Validation accuracy:  0.538083538083538\n",
      "----------------------------------------------------------------------------------------------------\n",
      "[Epoch 2] Train Loss: 140.2149637490511, Train Accuracy: 0.6741573033707865, Val Loss 136.52166706323624, Val Accuracy: 0.538083538083538\n",
      "Minibatch time:  2.650059461593628\n",
      "Saving model Validation accuracy:  0.5862068965517241\n",
      "----------------------------------------------------------------------------------------------------\n",
      "[Epoch 3] Train Loss: 123.28883792459965, Train Accuracy: 0.7685393258426966, Val Loss 132.99487936496735, Val Accuracy: 0.5862068965517241\n",
      "Minibatch time:  3.210803508758545\n",
      "Saving model Validation accuracy:  0.6435643564356436\n",
      "----------------------------------------------------------------------------------------------------\n",
      "[Epoch 4] Train Loss: 111.24210046231747, Train Accuracy: 0.8202247191011236, Val Loss 126.04667039215565, Val Accuracy: 0.6435643564356436\n",
      "Minibatch time:  3.3820226192474365\n",
      "----------------------------------------------------------------------------------------------------\n",
      "[Epoch 5] Train Loss: 117.98291113972664, Train Accuracy: 0.7855530474040632, Val Loss 122.98998636007309, Val Accuracy: 0.6265356265356266\n",
      "Minibatch time:  3.1605303287506104\n",
      "----------------------------------------------------------------------------------------------------\n",
      "[Epoch 6] Train Loss: 86.11468331515789, Train Accuracy: 0.8536036036036037, Val Loss 134.04978750646114, Val Accuracy: 0.6225490196078431\n",
      "Minibatch time:  3.3556041717529297\n",
      "Saving model Validation accuracy:  0.6469135802469136\n",
      "----------------------------------------------------------------------------------------------------\n",
      "[Epoch 7] Train Loss: 90.94905400276184, Train Accuracy: 0.8597285067873304, Val Loss 125.44795370101929, Val Accuracy: 0.6469135802469136\n",
      "Minibatch time:  3.3781564235687256\n",
      "Saving model Validation accuracy:  0.6642156862745098\n",
      "----------------------------------------------------------------------------------------------------\n",
      "[Epoch 8] Train Loss: 79.90662404894829, Train Accuracy: 0.8781038374717833, Val Loss 124.15000186860561, Val Accuracy: 0.6642156862745098\n",
      "Minibatch time:  3.175497531890869\n",
      "----------------------------------------------------------------------------------------------------\n",
      "[Epoch 9] Train Loss: 77.99580605328083, Train Accuracy: 0.8834080717488789, Val Loss 160.15307411551476, Val Accuracy: 0.6240786240786241\n",
      "Minibatch time:  3.2246952056884766\n",
      "----------------------------------------------------------------------------------------------------\n",
      "[Epoch 10] Train Loss: 80.48875921964645, Train Accuracy: 0.8696629213483146, Val Loss 142.19164223968983, Val Accuracy: 0.6151960784313726\n",
      "Minibatch time:  3.3173129558563232\n",
      "----------------------------------------------------------------------------------------------------\n",
      "[Epoch 11] Train Loss: 71.38962614536285, Train Accuracy: 0.8921348314606742, Val Loss 130.35617971420288, Val Accuracy: 0.6584766584766585\n",
      "Minibatch time:  3.454925060272217\n",
      "Saving model Validation accuracy:  0.6938271604938272\n",
      "----------------------------------------------------------------------------------------------------\n",
      "[Epoch 12] Train Loss: 84.1352071762085, Train Accuracy: 0.8811659192825112, Val Loss 114.10315971076488, Val Accuracy: 0.6938271604938272\n",
      "Minibatch time:  3.546849250793457\n",
      "Saving model Validation accuracy:  0.7813267813267813\n",
      "----------------------------------------------------------------------------------------------------\n",
      "[Epoch 13] Train Loss: 80.8641160428524, Train Accuracy: 0.8571428571428571, Val Loss 106.16622380912304, Val Accuracy: 0.7813267813267813\n",
      "Minibatch time:  3.482447624206543\n",
      "----------------------------------------------------------------------------------------------------\n",
      "[Epoch 14] Train Loss: 71.49179780483246, Train Accuracy: 0.891647855530474, Val Loss 153.2027380168438, Val Accuracy: 0.6691358024691358\n",
      "Minibatch time:  3.2864015102386475\n",
      "----------------------------------------------------------------------------------------------------\n",
      "[Epoch 15] Train Loss: 88.81311774253845, Train Accuracy: 0.8629213483146068, Val Loss 115.36065544188023, Val Accuracy: 0.7118226600985221\n",
      "Minibatch time:  3.194236993789673\n",
      "----------------------------------------------------------------------------------------------------\n",
      "[Epoch 16] Train Loss: 53.66818508505821, Train Accuracy: 0.9121621621621622, Val Loss 139.62305589020252, Val Accuracy: 0.6609336609336609\n",
      "Minibatch time:  3.2084391117095947\n",
      "----------------------------------------------------------------------------------------------------\n",
      "[Epoch 17] Train Loss: 74.90827362239361, Train Accuracy: 0.8866213151927438, Val Loss 121.3673825263977, Val Accuracy: 0.7185185185185186\n",
      "Minibatch time:  3.1717288494110107\n",
      "----------------------------------------------------------------------------------------------------\n",
      "[Epoch 18] Train Loss: 69.83438216149807, Train Accuracy: 0.8921348314606742, Val Loss 152.5555606931448, Val Accuracy: 0.6469135802469136\n",
      "Minibatch time:  3.2466769218444824\n",
      "----------------------------------------------------------------------------------------------------\n",
      "[Epoch 19] Train Loss: 60.87407772243023, Train Accuracy: 0.9121621621621622, Val Loss 173.61076702177525, Val Accuracy: 0.6592592592592592\n",
      "Minibatch time:  3.643331527709961\n",
      "----------------------------------------------------------------------------------------------------\n",
      "[Epoch 20] Train Loss: 63.23417952656746, Train Accuracy: 0.9004524886877828, Val Loss 114.11264918744564, Val Accuracy: 0.7684729064039408\n",
      "Minibatch time:  3.2601091861724854\n",
      "----------------------------------------------------------------------------------------------------\n",
      "[Epoch 21] Train Loss: 52.08774822950363, Train Accuracy: 0.9279279279279279, Val Loss 113.951241761446, Val Accuracy: 0.7493857493857494\n",
      "Minibatch time:  3.181654691696167\n",
      "----------------------------------------------------------------------------------------------------\n",
      "[Epoch 22] Train Loss: 66.12311218678951, Train Accuracy: 0.9056179775280899, Val Loss 128.40611365437508, Val Accuracy: 0.7039800995024875\n",
      "Minibatch time:  3.259664535522461\n",
      "----------------------------------------------------------------------------------------------------\n",
      "[Epoch 23] Train Loss: 82.36492440104485, Train Accuracy: 0.8896396396396397, Val Loss 134.53297545015812, Val Accuracy: 0.6790123456790124\n",
      "Minibatch time:  3.3114466667175293\n",
      "----------------------------------------------------------------------------------------------------\n",
      "[Epoch 24] Train Loss: 55.313029296696186, Train Accuracy: 0.9211711711711712, Val Loss 159.13773080706596, Val Accuracy: 0.6386138613861386\n",
      "Minibatch time:  3.142063856124878\n",
      "----------------------------------------------------------------------------------------------------\n",
      "[Epoch 25] Train Loss: 46.87145717442036, Train Accuracy: 0.9366515837104072, Val Loss 126.47286996245384, Val Accuracy: 0.7481481481481481\n",
      "Minibatch time:  3.222301959991455\n",
      "----------------------------------------------------------------------------------------------------\n",
      "[Epoch 26] Train Loss: 76.63219501078129, Train Accuracy: 0.9051918735891648, Val Loss 110.4551512002945, Val Accuracy: 0.7321867321867321\n",
      "Minibatch time:  3.1752471923828125\n",
      "Saving model Validation accuracy:  0.8034825870646766\n",
      "----------------------------------------------------------------------------------------------------\n",
      "[Epoch 27] Train Loss: 51.06613327562809, Train Accuracy: 0.9256756756756757, Val Loss 101.57808955013752, Val Accuracy: 0.8034825870646766\n"
     ]
    },
    {
     "name": "stdout",
     "output_type": "stream",
     "text": [
      "Minibatch time:  3.1756575107574463\n",
      "----------------------------------------------------------------------------------------------------\n",
      "[Epoch 28] Train Loss: 58.398418471217155, Train Accuracy: 0.9260089686098655, Val Loss 104.19146327674389, Val Accuracy: 0.7660098522167488\n",
      "Minibatch time:  3.2365834712982178\n",
      "----------------------------------------------------------------------------------------------------\n",
      "[Epoch 29] Train Loss: 54.17864382266998, Train Accuracy: 0.9260089686098655, Val Loss 111.97199584543705, Val Accuracy: 0.769041769041769\n",
      "Minibatch time:  3.584390640258789\n",
      "----------------------------------------------------------------------------------------------------\n",
      "[Epoch 30] Train Loss: 45.868550941348076, Train Accuracy: 0.9324324324324325, Val Loss 160.9166178703308, Val Accuracy: 0.6724137931034483\n",
      "Minibatch time:  3.3904614448547363\n",
      "----------------------------------------------------------------------------------------------------\n",
      "[Epoch 31] Train Loss: 54.12263998389244, Train Accuracy: 0.9417040358744395, Val Loss 113.77360054850578, Val Accuracy: 0.7616707616707616\n",
      "Minibatch time:  3.2231879234313965\n",
      "----------------------------------------------------------------------------------------------------\n",
      "[Epoch 32] Train Loss: 53.529652789235115, Train Accuracy: 0.9461883408071748, Val Loss 133.71344308555126, Val Accuracy: 0.7308641975308642\n",
      "Minibatch time:  3.228257179260254\n",
      "----------------------------------------------------------------------------------------------------\n",
      "[Epoch 33] Train Loss: 54.08403825759888, Train Accuracy: 0.9280898876404494, Val Loss 161.05352540314198, Val Accuracy: 0.6822660098522167\n",
      "Minibatch time:  3.128967761993408\n",
      "----------------------------------------------------------------------------------------------------\n",
      "[Epoch 34] Train Loss: 51.844809517264366, Train Accuracy: 0.927765237020316, Val Loss 127.35883624851704, Val Accuracy: 0.7248157248157249\n",
      "Minibatch time:  3.1900477409362793\n",
      "----------------------------------------------------------------------------------------------------\n",
      "[Epoch 35] Train Loss: 47.06006629765034, Train Accuracy: 0.9255079006772009, Val Loss 120.4705598950386, Val Accuracy: 0.7266009852216748\n",
      "Minibatch time:  3.217339515686035\n",
      "----------------------------------------------------------------------------------------------------\n",
      "[Epoch 36] Train Loss: 54.85512886941433, Train Accuracy: 0.927437641723356, Val Loss 119.51492390036583, Val Accuracy: 0.7209876543209877\n",
      "Minibatch time:  3.1968555450439453\n",
      "----------------------------------------------------------------------------------------------------\n",
      "[Epoch 37] Train Loss: 59.0725649446249, Train Accuracy: 0.9121621621621622, Val Loss 122.59055382013321, Val Accuracy: 0.7518427518427518\n",
      "Minibatch time:  3.1798183917999268\n",
      "Saving model Validation accuracy:  0.8320987654320988\n",
      "----------------------------------------------------------------------------------------------------\n",
      "[Epoch 38] Train Loss: 44.57383516430855, Train Accuracy: 0.9436936936936937, Val Loss 93.7241388708353, Val Accuracy: 0.8320987654320988\n",
      "Minibatch time:  3.22367000579834\n",
      "----------------------------------------------------------------------------------------------------\n",
      "[Epoch 39] Train Loss: 44.84791035950184, Train Accuracy: 0.9343891402714932, Val Loss 109.4896250218153, Val Accuracy: 0.7512315270935961\n",
      "Minibatch time:  3.179023504257202\n",
      "----------------------------------------------------------------------------------------------------\n",
      "[Epoch 40] Train Loss: 52.15580642223358, Train Accuracy: 0.9256756756756757, Val Loss 149.36126406490803, Val Accuracy: 0.6928746928746928\n",
      "Minibatch time:  3.170682430267334\n",
      "----------------------------------------------------------------------------------------------------\n",
      "[Epoch 41] Train Loss: 37.605456322431564, Train Accuracy: 0.9436936936936937, Val Loss 223.6920091956854, Val Accuracy: 0.6352357320099256\n",
      "Minibatch time:  3.2060434818267822\n",
      "----------------------------------------------------------------------------------------------------\n",
      "[Epoch 42] Train Loss: 46.102758318185806, Train Accuracy: 0.927765237020316, Val Loss 162.8696699142456, Val Accuracy: 0.6534653465346535\n",
      "Minibatch time:  3.2814040184020996\n",
      "----------------------------------------------------------------------------------------------------\n",
      "[Epoch 43] Train Loss: 56.97514195740223, Train Accuracy: 0.9325842696629213, Val Loss 152.47893629968166, Val Accuracy: 0.7093596059113301\n",
      "Minibatch time:  3.1724250316619873\n",
      "----------------------------------------------------------------------------------------------------\n",
      "[Epoch 44] Train Loss: 52.765199571847916, Train Accuracy: 0.9394618834080718, Val Loss 129.21376653015614, Val Accuracy: 0.745679012345679\n",
      "Minibatch time:  3.2314858436584473\n",
      "----------------------------------------------------------------------------------------------------\n",
      "[Epoch 45] Train Loss: 51.89311706274748, Train Accuracy: 0.952914798206278, Val Loss 167.7536903321743, Val Accuracy: 0.7009803921568627\n",
      "Minibatch time:  3.286975860595703\n",
      "----------------------------------------------------------------------------------------------------\n",
      "[Epoch 46] Train Loss: 59.91639994084835, Train Accuracy: 0.9348314606741573, Val Loss 127.76634599268436, Val Accuracy: 0.7044334975369458\n",
      "Minibatch time:  3.1531906127929688\n",
      "----------------------------------------------------------------------------------------------------\n",
      "[Epoch 47] Train Loss: 54.71780939400196, Train Accuracy: 0.9369369369369369, Val Loss 112.89348031580448, Val Accuracy: 0.7407407407407407\n",
      "Minibatch time:  3.339630365371704\n",
      "----------------------------------------------------------------------------------------------------\n",
      "[Epoch 48] Train Loss: 40.173641219735146, Train Accuracy: 0.9415730337078652, Val Loss 196.76307371258736, Val Accuracy: 0.6428571428571429\n",
      "Minibatch time:  3.5873212814331055\n",
      "----------------------------------------------------------------------------------------------------\n",
      "[Epoch 49] Train Loss: 37.00154758989811, Train Accuracy: 0.9433106575963719, Val Loss 119.61972765624523, Val Accuracy: 0.7132352941176471\n"
     ]
    },
    {
     "data": {
      "text/plain": [
       "<Figure size 432x288 with 0 Axes>"
      ]
     },
     "metadata": {},
     "output_type": "display_data"
    },
    {
     "data": {
      "image/png": "[encoded data removed]",
      "text/plain": [
       "<Figure size 432x288 with 1 Axes>"
      ]
     },
     "metadata": {
      "needs_background": "light"
     },
     "output_type": "display_data"
    },
    {
     "data": {
      "text/plain": [
       "<Figure size 432x288 with 0 Axes>"
      ]
     },
     "metadata": {},
     "output_type": "display_data"
    },
    {
     "data": {
      "image/png": "[encoded data removed]",
      "text/plain": [
       "<Figure size 432x288 with 1 Axes>"
      ]
     },
     "metadata": {
      "needs_background": "light"
     },
     "output_type": "display_data"
    },
    {
     "data": {
      "text/plain": [
       "<Figure size 432x288 with 0 Axes>"
      ]
     },
     "metadata": {},
     "output_type": "display_data"
    }
   ],
   "source": [
    "gnn_model = JointGNN().to(device)\n",
    "gnn_optimizer = torch.optim.Adam(gnn_model.parameters(), lr=0.001)\n",
    "gnn_best_model = 'best_gnn_inductive_model.model'\n",
    "\n",
    "\n",
    "epochs = 50\n",
    "validation_acc = 0\n",
    "small_samples = 200\n",
    "\n",
    "G_train=Data(edge_index=(adj_train_corrupted.nonzero()).t(), x=data.x[data.train_mask])\n",
    "G_val=Data(edge_index=(adj_val_corrupted.nonzero()).t(), x=data.x[data.val_mask])\n",
    "G_test=Data(edge_index=(adj_test_corrupted.nonzero()).t(), x=data.x[data.test_mask])\n",
    "\n",
    "minibatch_size=2\n",
    "k=5\n",
    "hop=2\n",
    "\n",
    "train_neighbor_sampler=NeighborSampler(G_train,size=k,num_hops=hop,bipartite=False,batch_size=2*minibatch_size)\n",
    "val_neighbor_sampler=NeighborSampler(G_val,size=k,num_hops=hop,bipartite=False,batch_size=2*minibatch_size)\n",
    "test_neighbor_sampler=NeighborSampler(G_test,size=k,num_hops=hop,bipartite=False,batch_size=2*minibatch_size)\n",
    "\n",
    "\n",
    "train_accs=[]\n",
    "val_accs=[]\n",
    "train_losses=[]\n",
    "val_losses=[]\n",
    "\n",
    "\n",
    "for num_epoch in range(epochs):\n",
    "            \n",
    "    edges, non_edges = sample_equal_number_edges_non_edges(adj_train_corrupted, false_non_edges=train_false_non_edges, false_edges=train_false_edges, small_samples=small_samples)\n",
    "    \n",
    "    samples = torch.cat((torch.Tensor(edges), torch.Tensor(non_edges)),dim=0).type(torch.long).to(device)\n",
    "    target = torch.cat((torch.ones(len(edges)), torch.zeros(len(non_edges))),dim=0).type(torch.long).to(device)\n",
    "    \n",
    "    \n",
    "    train_batcher = MiniBatcher(minibatch_size, len(samples)) if minibatch_size > 0 else MiniBatcher(len(samples), len(samples))\n",
    "    \n",
    "    train_loss=0\n",
    "    y_pred=[]\n",
    "    y_true=[]\n",
    "    \n",
    "    t_start = time.time()\n",
    "    for train_idxs in train_batcher.get_one_batch():\n",
    "        train_idxs = train_idxs.to(device)\n",
    "        \n",
    "        train_edges=samples[train_idxs]\n",
    "        train_target=target[train_idxs]\n",
    "\n",
    "        nodes=torch.flatten(train_edges)\n",
    "        neighbor_graph=train_neighbor_sampler(nodes.cpu())\n",
    "        \n",
    "        x_feature=[]\n",
    "        subgraphs=[]\n",
    "        \n",
    "        for graph in neighbor_graph:\n",
    "                \n",
    "            sub_nodes=graph.n_id\n",
    "            sub_edges=graph.e_id\n",
    "            \n",
    "            x_feature.append(torch.Tensor(G_train.x[sub_nodes]).to(device))\n",
    "            subgraphs.append(graph.to(device))\n",
    "        \n",
    "        gnn_optimizer.zero_grad()        \n",
    "        \n",
    "        #loss=gnn_model.compute_loss(x_feature, subgraphs, nodes, train_edges, train_target)\n",
    "        loss, pred=gnn_model.predict(x_feature, subgraphs, nodes, train_edges, train_target)\n",
    "        \n",
    "        loss.backward()\n",
    "        gnn_optimizer.step()\n",
    "        \n",
    "        train_loss+=loss.item()\n",
    "            \n",
    "        pred = F.log_softmax(pred, dim=1)\n",
    "        pred = pred.detach().to(\"cpu\").numpy()\n",
    "        pred = np.argmax(pred, axis=1)\n",
    "\n",
    "        y_pred = np.append(y_pred,pred)\n",
    "        y_true = np.append(y_true,train_target.detach().to(\"cpu\").numpy())\n",
    "        \n",
    "    \n",
    "    t_end= time.time()\n",
    "    print(\"Minibatch time: \",t_end-t_start)\n",
    "    \n",
    "    train_acc=accuracy_score(y_true, y_pred)\n",
    "    train_accs.append(train_acc)\n",
    "    train_losses.append(train_loss)\n",
    "    \n",
    "    val_loss,val_acc,_,_=predict_model(gnn_model,G_val, val_neighbor_sampler, minibatch_size, small_samples, adj_val_corrupted, val_false_non_edges, val_false_edges)\n",
    "    val_losses.append(val_loss)\n",
    "    val_accs.append(val_acc)\n",
    "    \n",
    "    if val_acc > validation_acc:\n",
    "            validation_acc = val_acc\n",
    "            print(\"Saving model Validation accuracy: \", validation_acc)\n",
    "            #Save Model\n",
    "            torch.save(gnn_model.state_dict(), gnn_best_model)\n",
    "    \n",
    "    print(\"-\"*100)\n",
    "    print(\"[Epoch {0}] Train Loss: {1}, Train Accuracy: {2}, Val Loss {3}, Val Accuracy: {4}\".format(num_epoch, train_loss, train_acc, val_loss, val_acc))\n",
    "    \n",
    "        \n",
    "save_plot(train_accs, val_accs, name='Accuracy')\n",
    "save_plot(train_losses, val_losses, name='Loss')        "
   ]
  },
  {
   "cell_type": "markdown",
   "metadata": {},
   "source": [
    "## Forward pass on the test graphs"
   ]
  },
  {
   "cell_type": "code",
   "execution_count": 41,
   "metadata": {},
   "outputs": [
    {
     "name": "stdout",
     "output_type": "stream",
     "text": [
      "Test Micro F1 Score:  0.7594339622641509\n",
      "Test Weighted F1 Score:  0.753641287863306\n",
      "Test Accuracy Score:  0.7594339622641509\n"
     ]
    }
   ],
   "source": [
    "gnn_best_model = 'best_gnn_inductive_model.model'\n",
    "gnn_model = JointGNN().to(device)\n",
    "gnn_model.load_state_dict(torch.load(gnn_best_model))\n",
    "\n",
    "_,test_acc,test_micro,test_weighted=predict_model(gnn_model,G_test, test_neighbor_sampler, minibatch_size, small_samples, adj_test_corrupted, test_false_non_edges, test_false_edges)\n",
    "\n",
    "print(\"Test Micro F1 Score: \", test_micro)\n",
    "print(\"Test Weighted F1 Score: \", test_weighted)\n",
    "print(\"Test Accuracy Score: \", test_acc)"
   ]
  },
  {
   "cell_type": "markdown",
   "metadata": {},
   "source": [
    "## Scratch"
   ]
  },
  {
   "cell_type": "code",
   "execution_count": 42,
   "metadata": {},
   "outputs": [
    {
     "name": "stdout",
     "output_type": "stream",
     "text": [
      "tensor([0, 5])\n",
      "tensor([9, 1])\n",
      "tensor([3, 8])\n",
      "tensor([6, 2])\n",
      "tensor([4, 7])\n",
      "\n",
      "tensor([8, 9])\n",
      "tensor([3, 5])\n",
      "tensor([4, 7])\n",
      "tensor([1, 2])\n",
      "tensor([0, 6])\n",
      "\n",
      "tensor([0, 8])\n",
      "tensor([1, 9])\n",
      "tensor([2, 4])\n",
      "tensor([5, 6])\n",
      "tensor([3, 7])\n",
      "\n"
     ]
    }
   ],
   "source": [
    "train_batcher = MiniBatcher(2, 10) if minibatch_size > 0 else MiniBatcher(10, 10)\n",
    "\n",
    "for i in range(3):\n",
    "    for train_idxs in train_batcher.get_one_batch():\n",
    "        print(train_idxs)\n",
    "    print(\"\")\n"
   ]
  }
 ],
 "metadata": {
  "kernelspec": {
   "display_name": "Conda cs690_37",
   "language": "python",
   "name": "cs690_37"
  },
  "language_info": {
   "codemirror_mode": {
    "name": "ipython",
    "version": 3
   },
   "file_extension": ".py",
   "mimetype": "text/x-python",
   "name": "python",
   "nbconvert_exporter": "python",
   "pygments_lexer": "ipython3",
   "version": "3.7.6"
  }
 },
 "nbformat": 4,
 "nbformat_minor": 2
}
